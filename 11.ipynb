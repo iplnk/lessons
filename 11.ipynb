{
 "cells": [
  {
   "cell_type": "code",
   "execution_count": 1,
   "id": "initial_id",
   "metadata": {
    "collapsed": true,
    "ExecuteTime": {
     "end_time": "2025-01-09T17:27:46.191803500Z",
     "start_time": "2025-01-09T17:27:46.067340200Z"
    }
   },
   "outputs": [],
   "source": [
    "import re\n",
    "\n",
    "import pandas as pd\n",
    "import seaborn as sns\n",
    "import matplotlib.pyplot as plt\n",
    "\n",
    "import numpy as np\n",
    "import os\n",
    "import zipfile\n",
    "import xlrd\n",
    "import plotly.express as px\n",
    "import re"
   ]
  },
  {
   "cell_type": "code",
   "execution_count": 207,
   "outputs": [],
   "source": [
    "df = pd.read_csv(r'datasets/ads_data.csv', parse_dates=['date', 'time'])"
   ],
   "metadata": {
    "collapsed": false,
    "ExecuteTime": {
     "end_time": "2025-01-09T20:35:02.413901300Z",
     "start_time": "2025-01-09T20:35:01.370321100Z"
    }
   },
   "id": "cbc5d81dc56adc0"
  },
  {
   "cell_type": "code",
   "execution_count": 208,
   "outputs": [
    {
     "data": {
      "text/plain": "             date                time  event platform   ad_id  \\\n0      2019-04-01 2019-04-01 00:00:48   view  android   45061   \n1      2019-04-01 2019-04-01 00:00:48   view      web  121288   \n2      2019-04-01 2019-04-01 00:01:03   view  android  102737   \n3      2019-04-01 2019-04-01 00:01:03   view  android  107564   \n4      2019-04-01 2019-04-01 00:01:09   view  android    4922   \n...           ...                 ...    ...      ...     ...   \n999995 2019-04-05 2019-04-05 20:59:52   view      web  112583   \n999996 2019-04-05 2019-04-05 20:59:52   view  android  112583   \n999997 2019-04-05 2019-04-05 20:59:52  click      web  112583   \n999998 2019-04-05 2019-04-05 20:59:52   view      web  113350   \n999999 2019-04-05 2019-04-05 20:59:52   view  android  117353   \n\n        client_union_id  campaign_union_id ad_cost_type  ad_cost  has_video  \\\n0                 34734              45061          CPM    200.6          0   \n1                121288             121288          CPM    187.4          0   \n2                102535             102564          CPC     60.7          0   \n3                106914             107564          CPM    217.3          0   \n4                    37               4400          CPC     60.1          0   \n...                 ...                ...          ...      ...        ...   \n999995           111818             112260          CPM    210.1          0   \n999996           111818             112260          CPM    210.1          0   \n999997           111818             112260          CPM    210.1          0   \n999998           113036             113251          CPM    183.3          0   \n999999           117350             117353          CPM    207.5          1   \n\n        target_audience_count  \n0                     1955269  \n1                      232011  \n2                        4410  \n3                       62711  \n4                     1183501  \n...                       ...  \n999995                  22392  \n999996                  22392  \n999997                  22392  \n999998                 571929  \n999999                 167598  \n\n[1000000 rows x 11 columns]",
      "text/html": "<div>\n<style scoped>\n    .dataframe tbody tr th:only-of-type {\n        vertical-align: middle;\n    }\n\n    .dataframe tbody tr th {\n        vertical-align: top;\n    }\n\n    .dataframe thead th {\n        text-align: right;\n    }\n</style>\n<table border=\"1\" class=\"dataframe\">\n  <thead>\n    <tr style=\"text-align: right;\">\n      <th></th>\n      <th>date</th>\n      <th>time</th>\n      <th>event</th>\n      <th>platform</th>\n      <th>ad_id</th>\n      <th>client_union_id</th>\n      <th>campaign_union_id</th>\n      <th>ad_cost_type</th>\n      <th>ad_cost</th>\n      <th>has_video</th>\n      <th>target_audience_count</th>\n    </tr>\n  </thead>\n  <tbody>\n    <tr>\n      <th>0</th>\n      <td>2019-04-01</td>\n      <td>2019-04-01 00:00:48</td>\n      <td>view</td>\n      <td>android</td>\n      <td>45061</td>\n      <td>34734</td>\n      <td>45061</td>\n      <td>CPM</td>\n      <td>200.6</td>\n      <td>0</td>\n      <td>1955269</td>\n    </tr>\n    <tr>\n      <th>1</th>\n      <td>2019-04-01</td>\n      <td>2019-04-01 00:00:48</td>\n      <td>view</td>\n      <td>web</td>\n      <td>121288</td>\n      <td>121288</td>\n      <td>121288</td>\n      <td>CPM</td>\n      <td>187.4</td>\n      <td>0</td>\n      <td>232011</td>\n    </tr>\n    <tr>\n      <th>2</th>\n      <td>2019-04-01</td>\n      <td>2019-04-01 00:01:03</td>\n      <td>view</td>\n      <td>android</td>\n      <td>102737</td>\n      <td>102535</td>\n      <td>102564</td>\n      <td>CPC</td>\n      <td>60.7</td>\n      <td>0</td>\n      <td>4410</td>\n    </tr>\n    <tr>\n      <th>3</th>\n      <td>2019-04-01</td>\n      <td>2019-04-01 00:01:03</td>\n      <td>view</td>\n      <td>android</td>\n      <td>107564</td>\n      <td>106914</td>\n      <td>107564</td>\n      <td>CPM</td>\n      <td>217.3</td>\n      <td>0</td>\n      <td>62711</td>\n    </tr>\n    <tr>\n      <th>4</th>\n      <td>2019-04-01</td>\n      <td>2019-04-01 00:01:09</td>\n      <td>view</td>\n      <td>android</td>\n      <td>4922</td>\n      <td>37</td>\n      <td>4400</td>\n      <td>CPC</td>\n      <td>60.1</td>\n      <td>0</td>\n      <td>1183501</td>\n    </tr>\n    <tr>\n      <th>...</th>\n      <td>...</td>\n      <td>...</td>\n      <td>...</td>\n      <td>...</td>\n      <td>...</td>\n      <td>...</td>\n      <td>...</td>\n      <td>...</td>\n      <td>...</td>\n      <td>...</td>\n      <td>...</td>\n    </tr>\n    <tr>\n      <th>999995</th>\n      <td>2019-04-05</td>\n      <td>2019-04-05 20:59:52</td>\n      <td>view</td>\n      <td>web</td>\n      <td>112583</td>\n      <td>111818</td>\n      <td>112260</td>\n      <td>CPM</td>\n      <td>210.1</td>\n      <td>0</td>\n      <td>22392</td>\n    </tr>\n    <tr>\n      <th>999996</th>\n      <td>2019-04-05</td>\n      <td>2019-04-05 20:59:52</td>\n      <td>view</td>\n      <td>android</td>\n      <td>112583</td>\n      <td>111818</td>\n      <td>112260</td>\n      <td>CPM</td>\n      <td>210.1</td>\n      <td>0</td>\n      <td>22392</td>\n    </tr>\n    <tr>\n      <th>999997</th>\n      <td>2019-04-05</td>\n      <td>2019-04-05 20:59:52</td>\n      <td>click</td>\n      <td>web</td>\n      <td>112583</td>\n      <td>111818</td>\n      <td>112260</td>\n      <td>CPM</td>\n      <td>210.1</td>\n      <td>0</td>\n      <td>22392</td>\n    </tr>\n    <tr>\n      <th>999998</th>\n      <td>2019-04-05</td>\n      <td>2019-04-05 20:59:52</td>\n      <td>view</td>\n      <td>web</td>\n      <td>113350</td>\n      <td>113036</td>\n      <td>113251</td>\n      <td>CPM</td>\n      <td>183.3</td>\n      <td>0</td>\n      <td>571929</td>\n    </tr>\n    <tr>\n      <th>999999</th>\n      <td>2019-04-05</td>\n      <td>2019-04-05 20:59:52</td>\n      <td>view</td>\n      <td>android</td>\n      <td>117353</td>\n      <td>117350</td>\n      <td>117353</td>\n      <td>CPM</td>\n      <td>207.5</td>\n      <td>1</td>\n      <td>167598</td>\n    </tr>\n  </tbody>\n</table>\n<p>1000000 rows × 11 columns</p>\n</div>"
     },
     "execution_count": 208,
     "metadata": {},
     "output_type": "execute_result"
    }
   ],
   "source": [
    "df"
   ],
   "metadata": {
    "collapsed": false,
    "ExecuteTime": {
     "end_time": "2025-01-09T20:35:02.429434200Z",
     "start_time": "2025-01-09T20:35:02.414901600Z"
    }
   },
   "id": "d0576e01640e8b0e"
  },
  {
   "cell_type": "code",
   "execution_count": 209,
   "outputs": [
    {
     "data": {
      "text/plain": "838"
     },
     "execution_count": 209,
     "metadata": {},
     "output_type": "execute_result"
    }
   ],
   "source": [
    "df.client_union_id.nunique()"
   ],
   "metadata": {
    "collapsed": false,
    "ExecuteTime": {
     "end_time": "2025-01-09T20:35:13.567411300Z",
     "start_time": "2025-01-09T20:35:13.541130200Z"
    }
   },
   "id": "dc84dcb534e40695"
  },
  {
   "cell_type": "code",
   "execution_count": 4,
   "outputs": [
    {
     "data": {
      "text/plain": "date                     datetime64[ns]\ntime                     datetime64[ns]\nevent                            object\nplatform                         object\nad_id                             int64\nclient_union_id                   int64\ncampaign_union_id                 int64\nad_cost_type                     object\nad_cost                         float64\nhas_video                         int64\ntarget_audience_count             int64\ndtype: object"
     },
     "execution_count": 4,
     "metadata": {},
     "output_type": "execute_result"
    }
   ],
   "source": [
    "df.dtypes"
   ],
   "metadata": {
    "collapsed": false,
    "ExecuteTime": {
     "end_time": "2025-01-09T17:27:47.386486700Z",
     "start_time": "2025-01-09T17:27:47.375299500Z"
    }
   },
   "id": "51d140afd396b259"
  },
  {
   "cell_type": "code",
   "execution_count": 5,
   "outputs": [],
   "source": [
    "df_mean = df.groupby(['ad_id','event'], as_index=False).date.count().rename(columns={'date':'counts'})"
   ],
   "metadata": {
    "collapsed": false,
    "ExecuteTime": {
     "end_time": "2025-01-09T17:27:47.536146900Z",
     "start_time": "2025-01-09T17:27:47.380976800Z"
    }
   },
   "id": "64a05a3f3a9affc4"
  },
  {
   "cell_type": "code",
   "execution_count": 6,
   "outputs": [
    {
     "data": {
      "text/plain": "       ad_id  event  counts\n0          2  click       1\n1          2   view     101\n2          3  click       3\n3          3   view     184\n4       1902  click       1\n...      ...    ...     ...\n1476  122013   view     156\n1477  122023   view      68\n1478  122031  click       1\n1479  122031   view     138\n1480  122078   view      42\n\n[1481 rows x 3 columns]",
      "text/html": "<div>\n<style scoped>\n    .dataframe tbody tr th:only-of-type {\n        vertical-align: middle;\n    }\n\n    .dataframe tbody tr th {\n        vertical-align: top;\n    }\n\n    .dataframe thead th {\n        text-align: right;\n    }\n</style>\n<table border=\"1\" class=\"dataframe\">\n  <thead>\n    <tr style=\"text-align: right;\">\n      <th></th>\n      <th>ad_id</th>\n      <th>event</th>\n      <th>counts</th>\n    </tr>\n  </thead>\n  <tbody>\n    <tr>\n      <th>0</th>\n      <td>2</td>\n      <td>click</td>\n      <td>1</td>\n    </tr>\n    <tr>\n      <th>1</th>\n      <td>2</td>\n      <td>view</td>\n      <td>101</td>\n    </tr>\n    <tr>\n      <th>2</th>\n      <td>3</td>\n      <td>click</td>\n      <td>3</td>\n    </tr>\n    <tr>\n      <th>3</th>\n      <td>3</td>\n      <td>view</td>\n      <td>184</td>\n    </tr>\n    <tr>\n      <th>4</th>\n      <td>1902</td>\n      <td>click</td>\n      <td>1</td>\n    </tr>\n    <tr>\n      <th>...</th>\n      <td>...</td>\n      <td>...</td>\n      <td>...</td>\n    </tr>\n    <tr>\n      <th>1476</th>\n      <td>122013</td>\n      <td>view</td>\n      <td>156</td>\n    </tr>\n    <tr>\n      <th>1477</th>\n      <td>122023</td>\n      <td>view</td>\n      <td>68</td>\n    </tr>\n    <tr>\n      <th>1478</th>\n      <td>122031</td>\n      <td>click</td>\n      <td>1</td>\n    </tr>\n    <tr>\n      <th>1479</th>\n      <td>122031</td>\n      <td>view</td>\n      <td>138</td>\n    </tr>\n    <tr>\n      <th>1480</th>\n      <td>122078</td>\n      <td>view</td>\n      <td>42</td>\n    </tr>\n  </tbody>\n</table>\n<p>1481 rows × 3 columns</p>\n</div>"
     },
     "execution_count": 6,
     "metadata": {},
     "output_type": "execute_result"
    }
   ],
   "source": [
    "df_mean"
   ],
   "metadata": {
    "collapsed": false,
    "ExecuteTime": {
     "end_time": "2025-01-09T17:27:47.537147200Z",
     "start_time": "2025-01-09T17:27:47.485594900Z"
    }
   },
   "id": "8ee6e09b10de8dd2"
  },
  {
   "cell_type": "code",
   "execution_count": 19,
   "outputs": [],
   "source": [
    "df_pivot = df_mean.pivot(index='ad_id', columns='event', values='counts').reset_index().fillna(0)"
   ],
   "metadata": {
    "collapsed": false,
    "ExecuteTime": {
     "end_time": "2025-01-09T17:34:54.746269500Z",
     "start_time": "2025-01-09T17:34:54.715329500Z"
    }
   },
   "id": "852f03da5cd883f9"
  },
  {
   "cell_type": "code",
   "execution_count": 20,
   "outputs": [
    {
     "data": {
      "text/plain": "event   ad_id  click   view\n0           2    1.0  101.0\n1           3    3.0  184.0\n2        1902    1.0   41.0\n3        2064    0.0   35.0\n4        2132    1.0   58.0\n..        ...    ...    ...\n960    122004    4.0  100.0\n961    122013    0.0  156.0\n962    122023    0.0   68.0\n963    122031    1.0  138.0\n964    122078    0.0   42.0\n\n[965 rows x 3 columns]",
      "text/html": "<div>\n<style scoped>\n    .dataframe tbody tr th:only-of-type {\n        vertical-align: middle;\n    }\n\n    .dataframe tbody tr th {\n        vertical-align: top;\n    }\n\n    .dataframe thead th {\n        text-align: right;\n    }\n</style>\n<table border=\"1\" class=\"dataframe\">\n  <thead>\n    <tr style=\"text-align: right;\">\n      <th>event</th>\n      <th>ad_id</th>\n      <th>click</th>\n      <th>view</th>\n    </tr>\n  </thead>\n  <tbody>\n    <tr>\n      <th>0</th>\n      <td>2</td>\n      <td>1.0</td>\n      <td>101.0</td>\n    </tr>\n    <tr>\n      <th>1</th>\n      <td>3</td>\n      <td>3.0</td>\n      <td>184.0</td>\n    </tr>\n    <tr>\n      <th>2</th>\n      <td>1902</td>\n      <td>1.0</td>\n      <td>41.0</td>\n    </tr>\n    <tr>\n      <th>3</th>\n      <td>2064</td>\n      <td>0.0</td>\n      <td>35.0</td>\n    </tr>\n    <tr>\n      <th>4</th>\n      <td>2132</td>\n      <td>1.0</td>\n      <td>58.0</td>\n    </tr>\n    <tr>\n      <th>...</th>\n      <td>...</td>\n      <td>...</td>\n      <td>...</td>\n    </tr>\n    <tr>\n      <th>960</th>\n      <td>122004</td>\n      <td>4.0</td>\n      <td>100.0</td>\n    </tr>\n    <tr>\n      <th>961</th>\n      <td>122013</td>\n      <td>0.0</td>\n      <td>156.0</td>\n    </tr>\n    <tr>\n      <th>962</th>\n      <td>122023</td>\n      <td>0.0</td>\n      <td>68.0</td>\n    </tr>\n    <tr>\n      <th>963</th>\n      <td>122031</td>\n      <td>1.0</td>\n      <td>138.0</td>\n    </tr>\n    <tr>\n      <th>964</th>\n      <td>122078</td>\n      <td>0.0</td>\n      <td>42.0</td>\n    </tr>\n  </tbody>\n</table>\n<p>965 rows × 3 columns</p>\n</div>"
     },
     "execution_count": 20,
     "metadata": {},
     "output_type": "execute_result"
    }
   ],
   "source": [
    "df_pivot"
   ],
   "metadata": {
    "collapsed": false,
    "ExecuteTime": {
     "end_time": "2025-01-09T17:34:55.034638Z",
     "start_time": "2025-01-09T17:34:55.014137800Z"
    }
   },
   "id": "f29d24324129c8cb"
  },
  {
   "cell_type": "code",
   "execution_count": 10,
   "outputs": [
    {
     "data": {
      "text/plain": "event\nclick    113.137824\nview     923.131606\ndtype: float64"
     },
     "execution_count": 10,
     "metadata": {},
     "output_type": "execute_result"
    }
   ],
   "source": [
    "df_pivot[['click', 'view']].mean()"
   ],
   "metadata": {
    "collapsed": false,
    "ExecuteTime": {
     "end_time": "2025-01-09T17:28:20.876476200Z",
     "start_time": "2025-01-09T17:28:20.832927800Z"
    }
   },
   "id": "52aba775452bef11"
  },
  {
   "cell_type": "code",
   "execution_count": 33,
   "outputs": [],
   "source": [
    "df_pivot1 = df_mean.pivot(index='ad_id', columns='event', values='counts').reset_index().dropna(subset=['view'])"
   ],
   "metadata": {
    "collapsed": false,
    "ExecuteTime": {
     "end_time": "2025-01-09T17:39:27.741893100Z",
     "start_time": "2025-01-09T17:39:27.698802Z"
    }
   },
   "id": "f007135e6b7632c8"
  },
  {
   "cell_type": "code",
   "execution_count": 34,
   "outputs": [
    {
     "data": {
      "text/plain": "event   ad_id  click   view\n0           2    1.0  101.0\n1           3    3.0  184.0\n2        1902    1.0   41.0\n3        2064    NaN   35.0\n4        2132    1.0   58.0\n..        ...    ...    ...\n960    122004    4.0  100.0\n961    122013    NaN  156.0\n962    122023    NaN   68.0\n963    122031    1.0  138.0\n964    122078    NaN   42.0\n\n[956 rows x 3 columns]",
      "text/html": "<div>\n<style scoped>\n    .dataframe tbody tr th:only-of-type {\n        vertical-align: middle;\n    }\n\n    .dataframe tbody tr th {\n        vertical-align: top;\n    }\n\n    .dataframe thead th {\n        text-align: right;\n    }\n</style>\n<table border=\"1\" class=\"dataframe\">\n  <thead>\n    <tr style=\"text-align: right;\">\n      <th>event</th>\n      <th>ad_id</th>\n      <th>click</th>\n      <th>view</th>\n    </tr>\n  </thead>\n  <tbody>\n    <tr>\n      <th>0</th>\n      <td>2</td>\n      <td>1.0</td>\n      <td>101.0</td>\n    </tr>\n    <tr>\n      <th>1</th>\n      <td>3</td>\n      <td>3.0</td>\n      <td>184.0</td>\n    </tr>\n    <tr>\n      <th>2</th>\n      <td>1902</td>\n      <td>1.0</td>\n      <td>41.0</td>\n    </tr>\n    <tr>\n      <th>3</th>\n      <td>2064</td>\n      <td>NaN</td>\n      <td>35.0</td>\n    </tr>\n    <tr>\n      <th>4</th>\n      <td>2132</td>\n      <td>1.0</td>\n      <td>58.0</td>\n    </tr>\n    <tr>\n      <th>...</th>\n      <td>...</td>\n      <td>...</td>\n      <td>...</td>\n    </tr>\n    <tr>\n      <th>960</th>\n      <td>122004</td>\n      <td>4.0</td>\n      <td>100.0</td>\n    </tr>\n    <tr>\n      <th>961</th>\n      <td>122013</td>\n      <td>NaN</td>\n      <td>156.0</td>\n    </tr>\n    <tr>\n      <th>962</th>\n      <td>122023</td>\n      <td>NaN</td>\n      <td>68.0</td>\n    </tr>\n    <tr>\n      <th>963</th>\n      <td>122031</td>\n      <td>1.0</td>\n      <td>138.0</td>\n    </tr>\n    <tr>\n      <th>964</th>\n      <td>122078</td>\n      <td>NaN</td>\n      <td>42.0</td>\n    </tr>\n  </tbody>\n</table>\n<p>956 rows × 3 columns</p>\n</div>"
     },
     "execution_count": 34,
     "metadata": {},
     "output_type": "execute_result"
    }
   ],
   "source": [
    "df_pivot1"
   ],
   "metadata": {
    "collapsed": false,
    "ExecuteTime": {
     "end_time": "2025-01-09T17:39:28.978880400Z",
     "start_time": "2025-01-09T17:39:28.937763800Z"
    }
   },
   "id": "76dff84563e5983c"
  },
  {
   "cell_type": "code",
   "execution_count": 43,
   "outputs": [],
   "source": [
    "sns.set(\n",
    "    font_scale=2,\n",
    "    style='whitegrid',\n",
    "    rc={'figure.figsize':(30,8)}\n",
    ")"
   ],
   "metadata": {
    "collapsed": false,
    "ExecuteTime": {
     "end_time": "2025-01-09T17:43:01.520778200Z",
     "start_time": "2025-01-09T17:43:01.495016100Z"
    }
   },
   "id": "2893a880c78624a3"
  },
  {
   "cell_type": "code",
   "execution_count": 36,
   "outputs": [],
   "source": [
    "log_views = np.log(df_pivot1['view'])"
   ],
   "metadata": {
    "collapsed": false,
    "ExecuteTime": {
     "end_time": "2025-01-09T17:40:02.680969500Z",
     "start_time": "2025-01-09T17:40:02.662369700Z"
    }
   },
   "id": "8b1df753e524c399"
  },
  {
   "cell_type": "code",
   "execution_count": 37,
   "outputs": [
    {
     "data": {
      "text/plain": "0      4.615121\n1      5.214936\n2      3.713572\n3      3.555348\n4      4.060443\n         ...   \n960    4.605170\n961    5.049856\n962    4.219508\n963    4.927254\n964    3.737670\nName: view, Length: 956, dtype: float64"
     },
     "execution_count": 37,
     "metadata": {},
     "output_type": "execute_result"
    }
   ],
   "source": [
    "log_views"
   ],
   "metadata": {
    "collapsed": false,
    "ExecuteTime": {
     "end_time": "2025-01-09T17:40:06.738036800Z",
     "start_time": "2025-01-09T17:40:06.712096400Z"
    }
   },
   "id": "6e8b84f00ab480a9"
  },
  {
   "cell_type": "code",
   "execution_count": 57,
   "outputs": [
    {
     "data": {
      "text/plain": "<Figure size 1000x800 with 1 Axes>",
      "image/png": "[encoded data removed]"
     },
     "metadata": {},
     "output_type": "display_data"
    }
   ],
   "source": [
    "sns.set(\n",
    "    font_scale=1.5,\n",
    "    style='whitegrid',\n",
    "    rc={'figure.figsize':(10,8)}\n",
    ")\n",
    "ax = sns.histplot(data=log_views, kde=True, stat='density')\n",
    "sns.despine()"
   ],
   "metadata": {
    "collapsed": false,
    "ExecuteTime": {
     "end_time": "2025-01-09T17:46:54.734550100Z",
     "start_time": "2025-01-09T17:46:54.585037900Z"
    }
   },
   "id": "50ad750e2b080c46"
  },
  {
   "cell_type": "code",
   "execution_count": 58,
   "outputs": [
    {
     "data": {
      "text/plain": "        date                time event platform   ad_id  client_union_id  \\\n0 2019-04-01 2019-04-01 00:00:48  view  android   45061            34734   \n1 2019-04-01 2019-04-01 00:00:48  view      web  121288           121288   \n2 2019-04-01 2019-04-01 00:01:03  view  android  102737           102535   \n3 2019-04-01 2019-04-01 00:01:03  view  android  107564           106914   \n4 2019-04-01 2019-04-01 00:01:09  view  android    4922               37   \n\n   campaign_union_id ad_cost_type  ad_cost  has_video  target_audience_count  \n0              45061          CPM    200.6          0                1955269  \n1             121288          CPM    187.4          0                 232011  \n2             102564          CPC     60.7          0                   4410  \n3             107564          CPM    217.3          0                  62711  \n4               4400          CPC     60.1          0                1183501  ",
      "text/html": "<div>\n<style scoped>\n    .dataframe tbody tr th:only-of-type {\n        vertical-align: middle;\n    }\n\n    .dataframe tbody tr th {\n        vertical-align: top;\n    }\n\n    .dataframe thead th {\n        text-align: right;\n    }\n</style>\n<table border=\"1\" class=\"dataframe\">\n  <thead>\n    <tr style=\"text-align: right;\">\n      <th></th>\n      <th>date</th>\n      <th>time</th>\n      <th>event</th>\n      <th>platform</th>\n      <th>ad_id</th>\n      <th>client_union_id</th>\n      <th>campaign_union_id</th>\n      <th>ad_cost_type</th>\n      <th>ad_cost</th>\n      <th>has_video</th>\n      <th>target_audience_count</th>\n    </tr>\n  </thead>\n  <tbody>\n    <tr>\n      <th>0</th>\n      <td>2019-04-01</td>\n      <td>2019-04-01 00:00:48</td>\n      <td>view</td>\n      <td>android</td>\n      <td>45061</td>\n      <td>34734</td>\n      <td>45061</td>\n      <td>CPM</td>\n      <td>200.6</td>\n      <td>0</td>\n      <td>1955269</td>\n    </tr>\n    <tr>\n      <th>1</th>\n      <td>2019-04-01</td>\n      <td>2019-04-01 00:00:48</td>\n      <td>view</td>\n      <td>web</td>\n      <td>121288</td>\n      <td>121288</td>\n      <td>121288</td>\n      <td>CPM</td>\n      <td>187.4</td>\n      <td>0</td>\n      <td>232011</td>\n    </tr>\n    <tr>\n      <th>2</th>\n      <td>2019-04-01</td>\n      <td>2019-04-01 00:01:03</td>\n      <td>view</td>\n      <td>android</td>\n      <td>102737</td>\n      <td>102535</td>\n      <td>102564</td>\n      <td>CPC</td>\n      <td>60.7</td>\n      <td>0</td>\n      <td>4410</td>\n    </tr>\n    <tr>\n      <th>3</th>\n      <td>2019-04-01</td>\n      <td>2019-04-01 00:01:03</td>\n      <td>view</td>\n      <td>android</td>\n      <td>107564</td>\n      <td>106914</td>\n      <td>107564</td>\n      <td>CPM</td>\n      <td>217.3</td>\n      <td>0</td>\n      <td>62711</td>\n    </tr>\n    <tr>\n      <th>4</th>\n      <td>2019-04-01</td>\n      <td>2019-04-01 00:01:09</td>\n      <td>view</td>\n      <td>android</td>\n      <td>4922</td>\n      <td>37</td>\n      <td>4400</td>\n      <td>CPC</td>\n      <td>60.1</td>\n      <td>0</td>\n      <td>1183501</td>\n    </tr>\n  </tbody>\n</table>\n</div>"
     },
     "execution_count": 58,
     "metadata": {},
     "output_type": "execute_result"
    }
   ],
   "source": [
    "df.head()"
   ],
   "metadata": {
    "collapsed": false,
    "ExecuteTime": {
     "end_time": "2025-01-09T17:48:26.495609600Z",
     "start_time": "2025-01-09T17:48:26.462926600Z"
    }
   },
   "id": "d1247708840281c6"
  },
  {
   "cell_type": "code",
   "execution_count": 65,
   "outputs": [],
   "source": [
    "rol = df.loc[df.event == 'view'].groupby(['date','event'],as_index=0).ad_id.value_counts() \n",
    "    "
   ],
   "metadata": {
    "collapsed": false,
    "ExecuteTime": {
     "end_time": "2025-01-09T17:53:34.089553400Z",
     "start_time": "2025-01-09T17:53:33.884707600Z"
    }
   },
   "id": "49822ca6152d82"
  },
  {
   "cell_type": "code",
   "execution_count": 87,
   "outputs": [
    {
     "data": {
      "text/plain": "           date event   ad_id  count\n0    2019-04-01  view   16589   1245\n1    2019-04-01  view    4922   1211\n2    2019-04-01  view  120299    820\n3    2019-04-01  view   38376    785\n4    2019-04-01  view  120378    727\n...         ...   ...     ...    ...\n1926 2019-04-06  view   18681      1\n1927 2019-04-06  view   27581      1\n1928 2019-04-06  view   35615      1\n1929 2019-04-06  view   98274      1\n1930 2019-04-06  view  106809      1\n\n[1931 rows x 4 columns]",
      "text/html": "<div>\n<style scoped>\n    .dataframe tbody tr th:only-of-type {\n        vertical-align: middle;\n    }\n\n    .dataframe tbody tr th {\n        vertical-align: top;\n    }\n\n    .dataframe thead th {\n        text-align: right;\n    }\n</style>\n<table border=\"1\" class=\"dataframe\">\n  <thead>\n    <tr style=\"text-align: right;\">\n      <th></th>\n      <th>date</th>\n      <th>event</th>\n      <th>ad_id</th>\n      <th>count</th>\n    </tr>\n  </thead>\n  <tbody>\n    <tr>\n      <th>0</th>\n      <td>2019-04-01</td>\n      <td>view</td>\n      <td>16589</td>\n      <td>1245</td>\n    </tr>\n    <tr>\n      <th>1</th>\n      <td>2019-04-01</td>\n      <td>view</td>\n      <td>4922</td>\n      <td>1211</td>\n    </tr>\n    <tr>\n      <th>2</th>\n      <td>2019-04-01</td>\n      <td>view</td>\n      <td>120299</td>\n      <td>820</td>\n    </tr>\n    <tr>\n      <th>3</th>\n      <td>2019-04-01</td>\n      <td>view</td>\n      <td>38376</td>\n      <td>785</td>\n    </tr>\n    <tr>\n      <th>4</th>\n      <td>2019-04-01</td>\n      <td>view</td>\n      <td>120378</td>\n      <td>727</td>\n    </tr>\n    <tr>\n      <th>...</th>\n      <td>...</td>\n      <td>...</td>\n      <td>...</td>\n      <td>...</td>\n    </tr>\n    <tr>\n      <th>1926</th>\n      <td>2019-04-06</td>\n      <td>view</td>\n      <td>18681</td>\n      <td>1</td>\n    </tr>\n    <tr>\n      <th>1927</th>\n      <td>2019-04-06</td>\n      <td>view</td>\n      <td>27581</td>\n      <td>1</td>\n    </tr>\n    <tr>\n      <th>1928</th>\n      <td>2019-04-06</td>\n      <td>view</td>\n      <td>35615</td>\n      <td>1</td>\n    </tr>\n    <tr>\n      <th>1929</th>\n      <td>2019-04-06</td>\n      <td>view</td>\n      <td>98274</td>\n      <td>1</td>\n    </tr>\n    <tr>\n      <th>1930</th>\n      <td>2019-04-06</td>\n      <td>view</td>\n      <td>106809</td>\n      <td>1</td>\n    </tr>\n  </tbody>\n</table>\n<p>1931 rows × 4 columns</p>\n</div>"
     },
     "execution_count": 87,
     "metadata": {},
     "output_type": "execute_result"
    }
   ],
   "source": [
    "rol"
   ],
   "metadata": {
    "collapsed": false,
    "ExecuteTime": {
     "end_time": "2025-01-09T18:03:50.627585300Z",
     "start_time": "2025-01-09T18:03:50.597591800Z"
    }
   },
   "id": "6155623cd38d49d5"
  },
  {
   "cell_type": "code",
   "execution_count": 108,
   "outputs": [],
   "source": [
    "# view_data = df.loc[df.event == 'view']\n",
    "# views_per_date = view_data.groupby('date')['ad_id'].count()\n",
    "# views_per_date = view_data.groupby(['date', 'ad_id']).size().groupby('date').mean()\n",
    "v= df.loc[df.event =='view'].groupby(['date', 'ad_id']).size().groupby('date').mean()"
   ],
   "metadata": {
    "collapsed": false,
    "ExecuteTime": {
     "end_time": "2025-01-09T18:13:08.504755500Z",
     "start_time": "2025-01-09T18:13:08.395952900Z"
    }
   },
   "id": "b7e572b8e525d773"
  },
  {
   "cell_type": "code",
   "execution_count": 109,
   "outputs": [
    {
     "data": {
      "text/plain": "date\n2019-04-01    154.482270\n2019-04-02    137.786982\n2019-04-03    163.952778\n2019-04-04    675.901720\n2019-04-05    919.109677\n2019-04-06    277.122727\ndtype: float64"
     },
     "execution_count": 109,
     "metadata": {},
     "output_type": "execute_result"
    }
   ],
   "source": [
    "v"
   ],
   "metadata": {
    "collapsed": false,
    "ExecuteTime": {
     "end_time": "2025-01-09T18:13:09.996116300Z",
     "start_time": "2025-01-09T18:13:09.976719500Z"
    }
   },
   "id": "4c391644edeece57"
  },
  {
   "cell_type": "code",
   "execution_count": 109,
   "outputs": [],
   "source": [],
   "metadata": {
    "collapsed": false,
    "ExecuteTime": {
     "end_time": "2025-01-09T18:13:12.286983300Z",
     "start_time": "2025-01-09T18:13:12.283327900Z"
    }
   },
   "id": "8fd84171b6229dd4"
  },
  {
   "cell_type": "code",
   "execution_count": 82,
   "outputs": [],
   "source": [
    "day_df = df.loc[df.event =='view'].pivot_table(index='ad_id', columns='date', values='time', aggfunc='count')"
   ],
   "metadata": {
    "collapsed": false,
    "ExecuteTime": {
     "end_time": "2025-01-09T18:02:32.701139800Z",
     "start_time": "2025-01-09T18:02:32.551444500Z"
    }
   },
   "id": "47f9729c5c1f37c6"
  },
  {
   "cell_type": "code",
   "execution_count": 83,
   "outputs": [
    {
     "data": {
      "text/plain": "date    2019-04-01  2019-04-02  2019-04-03  2019-04-04  2019-04-05  2019-04-06\nad_id                                                                         \n2             83.0        18.0         NaN         NaN         NaN         NaN\n3            158.0        26.0         NaN         NaN         NaN         NaN\n1902           NaN         NaN        34.0         7.0         NaN         NaN\n2064           NaN        28.0         7.0         NaN         NaN         NaN\n2132           NaN         NaN        25.0        27.0         6.0         NaN\n...            ...         ...         ...         ...         ...         ...\n122004        85.0        15.0         NaN         NaN         NaN         NaN\n122013         NaN         NaN         NaN       134.0        22.0         NaN\n122023         NaN         NaN         NaN        53.0        15.0         NaN\n122031         NaN         NaN         NaN         NaN       119.0        19.0\n122078         NaN         NaN        36.0         6.0         NaN         NaN\n\n[956 rows x 6 columns]",
      "text/html": "<div>\n<style scoped>\n    .dataframe tbody tr th:only-of-type {\n        vertical-align: middle;\n    }\n\n    .dataframe tbody tr th {\n        vertical-align: top;\n    }\n\n    .dataframe thead th {\n        text-align: right;\n    }\n</style>\n<table border=\"1\" class=\"dataframe\">\n  <thead>\n    <tr style=\"text-align: right;\">\n      <th>date</th>\n      <th>2019-04-01</th>\n      <th>2019-04-02</th>\n      <th>2019-04-03</th>\n      <th>2019-04-04</th>\n      <th>2019-04-05</th>\n      <th>2019-04-06</th>\n    </tr>\n    <tr>\n      <th>ad_id</th>\n      <th></th>\n      <th></th>\n      <th></th>\n      <th></th>\n      <th></th>\n      <th></th>\n    </tr>\n  </thead>\n  <tbody>\n    <tr>\n      <th>2</th>\n      <td>83.0</td>\n      <td>18.0</td>\n      <td>NaN</td>\n      <td>NaN</td>\n      <td>NaN</td>\n      <td>NaN</td>\n    </tr>\n    <tr>\n      <th>3</th>\n      <td>158.0</td>\n      <td>26.0</td>\n      <td>NaN</td>\n      <td>NaN</td>\n      <td>NaN</td>\n      <td>NaN</td>\n    </tr>\n    <tr>\n      <th>1902</th>\n      <td>NaN</td>\n      <td>NaN</td>\n      <td>34.0</td>\n      <td>7.0</td>\n      <td>NaN</td>\n      <td>NaN</td>\n    </tr>\n    <tr>\n      <th>2064</th>\n      <td>NaN</td>\n      <td>28.0</td>\n      <td>7.0</td>\n      <td>NaN</td>\n      <td>NaN</td>\n      <td>NaN</td>\n    </tr>\n    <tr>\n      <th>2132</th>\n      <td>NaN</td>\n      <td>NaN</td>\n      <td>25.0</td>\n      <td>27.0</td>\n      <td>6.0</td>\n      <td>NaN</td>\n    </tr>\n    <tr>\n      <th>...</th>\n      <td>...</td>\n      <td>...</td>\n      <td>...</td>\n      <td>...</td>\n      <td>...</td>\n      <td>...</td>\n    </tr>\n    <tr>\n      <th>122004</th>\n      <td>85.0</td>\n      <td>15.0</td>\n      <td>NaN</td>\n      <td>NaN</td>\n      <td>NaN</td>\n      <td>NaN</td>\n    </tr>\n    <tr>\n      <th>122013</th>\n      <td>NaN</td>\n      <td>NaN</td>\n      <td>NaN</td>\n      <td>134.0</td>\n      <td>22.0</td>\n      <td>NaN</td>\n    </tr>\n    <tr>\n      <th>122023</th>\n      <td>NaN</td>\n      <td>NaN</td>\n      <td>NaN</td>\n      <td>53.0</td>\n      <td>15.0</td>\n      <td>NaN</td>\n    </tr>\n    <tr>\n      <th>122031</th>\n      <td>NaN</td>\n      <td>NaN</td>\n      <td>NaN</td>\n      <td>NaN</td>\n      <td>119.0</td>\n      <td>19.0</td>\n    </tr>\n    <tr>\n      <th>122078</th>\n      <td>NaN</td>\n      <td>NaN</td>\n      <td>36.0</td>\n      <td>6.0</td>\n      <td>NaN</td>\n      <td>NaN</td>\n    </tr>\n  </tbody>\n</table>\n<p>956 rows × 6 columns</p>\n</div>"
     },
     "execution_count": 83,
     "metadata": {},
     "output_type": "execute_result"
    }
   ],
   "source": [
    "day_df"
   ],
   "metadata": {
    "collapsed": false,
    "ExecuteTime": {
     "end_time": "2025-01-09T18:02:33.240150700Z",
     "start_time": "2025-01-09T18:02:33.224460Z"
    }
   },
   "id": "b72a3431dfe5d726"
  },
  {
   "cell_type": "code",
   "execution_count": 140,
   "outputs": [],
   "source": [
    "mean_d = day_df.mean()"
   ],
   "metadata": {
    "collapsed": false,
    "ExecuteTime": {
     "end_time": "2025-01-09T20:01:02.114577100Z",
     "start_time": "2025-01-09T20:01:02.069922Z"
    }
   },
   "id": "f1b778732de4fb80"
  },
  {
   "cell_type": "code",
   "execution_count": 141,
   "outputs": [
    {
     "data": {
      "text/plain": "date\n2019-04-01    154.482270\n2019-04-02    137.786982\n2019-04-03    163.952778\n2019-04-04    675.901720\n2019-04-05    919.109677\n2019-04-06    277.122727\ndtype: float64"
     },
     "execution_count": 141,
     "metadata": {},
     "output_type": "execute_result"
    }
   ],
   "source": [
    "mean_d"
   ],
   "metadata": {
    "collapsed": false,
    "ExecuteTime": {
     "end_time": "2025-01-09T20:01:02.466961600Z",
     "start_time": "2025-01-09T20:01:02.450105700Z"
    }
   },
   "id": "15bbbb0a891437a9"
  },
  {
   "cell_type": "code",
   "execution_count": 145,
   "outputs": [],
   "source": [
    "vk= df.loc[df.event =='view'].groupby(['date', 'ad_id']).size().groupby('date').mean().rolling(2).mean().fillna(154)"
   ],
   "metadata": {
    "collapsed": false,
    "ExecuteTime": {
     "end_time": "2025-01-09T20:01:53.890123500Z",
     "start_time": "2025-01-09T20:01:53.770377600Z"
    }
   },
   "id": "5189a04d83aaa628"
  },
  {
   "cell_type": "code",
   "execution_count": 146,
   "outputs": [
    {
     "data": {
      "text/plain": "date\n2019-04-01    154.000000\n2019-04-02    146.134626\n2019-04-03    150.869880\n2019-04-04    419.927249\n2019-04-05    797.505699\n2019-04-06    598.116202\ndtype: float64"
     },
     "execution_count": 146,
     "metadata": {},
     "output_type": "execute_result"
    }
   ],
   "source": [
    "vk"
   ],
   "metadata": {
    "collapsed": false,
    "ExecuteTime": {
     "end_time": "2025-01-09T20:01:54.469949600Z",
     "start_time": "2025-01-09T20:01:54.465818900Z"
    }
   },
   "id": "e2babd49d026a7a6"
  },
  {
   "cell_type": "code",
   "execution_count": 148,
   "outputs": [
    {
     "data": {
      "text/plain": "<Figure size 1000x600 with 1 Axes>",
      "image/png": "[encoded data removed]"
     },
     "metadata": {},
     "output_type": "display_data"
    },
    {
     "data": {
      "text/plain": "<Figure size 1000x800 with 0 Axes>"
     },
     "metadata": {},
     "output_type": "display_data"
    }
   ],
   "source": [
    "fig, ax = plt.subplots(figsize=(10, 6))\n",
    "sns.lineplot(vk, color='blue', label='rolling_mean')\n",
    "sns.lineplot(mean_d, color='red', label='mean')\n",
    "ax.legend()\n",
    "plt.xticks(rotation=45)\n",
    "plt.show()\n",
    "\n",
    "sns.despine()"
   ],
   "metadata": {
    "collapsed": false,
    "ExecuteTime": {
     "end_time": "2025-01-09T20:02:03.347174200Z",
     "start_time": "2025-01-09T20:02:03.226485800Z"
    }
   },
   "id": "8249d081cfcf99f0"
  },
  {
   "cell_type": "code",
   "execution_count": 149,
   "outputs": [
    {
     "data": {
      "text/plain": "        date                time event platform   ad_id  client_union_id  \\\n0 2019-04-01 2019-04-01 00:00:48  view  android   45061            34734   \n1 2019-04-01 2019-04-01 00:00:48  view      web  121288           121288   \n2 2019-04-01 2019-04-01 00:01:03  view  android  102737           102535   \n3 2019-04-01 2019-04-01 00:01:03  view  android  107564           106914   \n4 2019-04-01 2019-04-01 00:01:09  view  android    4922               37   \n\n   campaign_union_id ad_cost_type  ad_cost  has_video  target_audience_count  \n0              45061          CPM    200.6          0                1955269  \n1             121288          CPM    187.4          0                 232011  \n2             102564          CPC     60.7          0                   4410  \n3             107564          CPM    217.3          0                  62711  \n4               4400          CPC     60.1          0                1183501  ",
      "text/html": "<div>\n<style scoped>\n    .dataframe tbody tr th:only-of-type {\n        vertical-align: middle;\n    }\n\n    .dataframe tbody tr th {\n        vertical-align: top;\n    }\n\n    .dataframe thead th {\n        text-align: right;\n    }\n</style>\n<table border=\"1\" class=\"dataframe\">\n  <thead>\n    <tr style=\"text-align: right;\">\n      <th></th>\n      <th>date</th>\n      <th>time</th>\n      <th>event</th>\n      <th>platform</th>\n      <th>ad_id</th>\n      <th>client_union_id</th>\n      <th>campaign_union_id</th>\n      <th>ad_cost_type</th>\n      <th>ad_cost</th>\n      <th>has_video</th>\n      <th>target_audience_count</th>\n    </tr>\n  </thead>\n  <tbody>\n    <tr>\n      <th>0</th>\n      <td>2019-04-01</td>\n      <td>2019-04-01 00:00:48</td>\n      <td>view</td>\n      <td>android</td>\n      <td>45061</td>\n      <td>34734</td>\n      <td>45061</td>\n      <td>CPM</td>\n      <td>200.6</td>\n      <td>0</td>\n      <td>1955269</td>\n    </tr>\n    <tr>\n      <th>1</th>\n      <td>2019-04-01</td>\n      <td>2019-04-01 00:00:48</td>\n      <td>view</td>\n      <td>web</td>\n      <td>121288</td>\n      <td>121288</td>\n      <td>121288</td>\n      <td>CPM</td>\n      <td>187.4</td>\n      <td>0</td>\n      <td>232011</td>\n    </tr>\n    <tr>\n      <th>2</th>\n      <td>2019-04-01</td>\n      <td>2019-04-01 00:01:03</td>\n      <td>view</td>\n      <td>android</td>\n      <td>102737</td>\n      <td>102535</td>\n      <td>102564</td>\n      <td>CPC</td>\n      <td>60.7</td>\n      <td>0</td>\n      <td>4410</td>\n    </tr>\n    <tr>\n      <th>3</th>\n      <td>2019-04-01</td>\n      <td>2019-04-01 00:01:03</td>\n      <td>view</td>\n      <td>android</td>\n      <td>107564</td>\n      <td>106914</td>\n      <td>107564</td>\n      <td>CPM</td>\n      <td>217.3</td>\n      <td>0</td>\n      <td>62711</td>\n    </tr>\n    <tr>\n      <th>4</th>\n      <td>2019-04-01</td>\n      <td>2019-04-01 00:01:09</td>\n      <td>view</td>\n      <td>android</td>\n      <td>4922</td>\n      <td>37</td>\n      <td>4400</td>\n      <td>CPC</td>\n      <td>60.1</td>\n      <td>0</td>\n      <td>1183501</td>\n    </tr>\n  </tbody>\n</table>\n</div>"
     },
     "execution_count": 149,
     "metadata": {},
     "output_type": "execute_result"
    }
   ],
   "source": [
    "df.head()"
   ],
   "metadata": {
    "collapsed": false,
    "ExecuteTime": {
     "end_time": "2025-01-09T20:05:09.851436300Z",
     "start_time": "2025-01-09T20:05:09.810992400Z"
    }
   },
   "id": "b5900bf979bbebe6"
  },
  {
   "cell_type": "code",
   "execution_count": 157,
   "outputs": [],
   "source": [
    "client_df = pd.read_csv(r'datasets/ads_clients_data.csv', parse_dates=['date', 'create_date'])"
   ],
   "metadata": {
    "collapsed": false,
    "ExecuteTime": {
     "end_time": "2025-01-09T20:06:12.522292100Z",
     "start_time": "2025-01-09T20:06:12.454081200Z"
    }
   },
   "id": "8db7861874d30497"
  },
  {
   "cell_type": "code",
   "execution_count": 164,
   "outputs": [],
   "source": [
    "client_df.community_id=client_df.community_id.abs()"
   ],
   "metadata": {
    "collapsed": false,
    "ExecuteTime": {
     "end_time": "2025-01-09T20:09:10.363333Z",
     "start_time": "2025-01-09T20:09:10.327420700Z"
    }
   },
   "id": "8f7e55903b19fc46"
  },
  {
   "cell_type": "code",
   "execution_count": 165,
   "outputs": [
    {
     "data": {
      "text/plain": "             date  client_union_id  community_id create_date\n0      2020-05-07                1     130371893  2018-12-24\n1      2020-05-07                2     130304626  2019-02-10\n2      2020-05-07                3     130462599  2019-01-25\n3      2020-05-07                4     130574300  2018-12-09\n4      2020-05-07                5     130292358  2019-01-08\n...           ...              ...           ...         ...\n122073 2020-05-07           122074     130470790  2018-12-21\n122074 2020-05-07           122075     130911261  2018-11-09\n122075 2020-05-07           122076     130494912  2018-10-27\n122076 2020-05-07           122077     130910585  2018-12-05\n122077 2020-05-07           122078     130558729  2019-01-22\n\n[122078 rows x 4 columns]",
      "text/html": "<div>\n<style scoped>\n    .dataframe tbody tr th:only-of-type {\n        vertical-align: middle;\n    }\n\n    .dataframe tbody tr th {\n        vertical-align: top;\n    }\n\n    .dataframe thead th {\n        text-align: right;\n    }\n</style>\n<table border=\"1\" class=\"dataframe\">\n  <thead>\n    <tr style=\"text-align: right;\">\n      <th></th>\n      <th>date</th>\n      <th>client_union_id</th>\n      <th>community_id</th>\n      <th>create_date</th>\n    </tr>\n  </thead>\n  <tbody>\n    <tr>\n      <th>0</th>\n      <td>2020-05-07</td>\n      <td>1</td>\n      <td>130371893</td>\n      <td>2018-12-24</td>\n    </tr>\n    <tr>\n      <th>1</th>\n      <td>2020-05-07</td>\n      <td>2</td>\n      <td>130304626</td>\n      <td>2019-02-10</td>\n    </tr>\n    <tr>\n      <th>2</th>\n      <td>2020-05-07</td>\n      <td>3</td>\n      <td>130462599</td>\n      <td>2019-01-25</td>\n    </tr>\n    <tr>\n      <th>3</th>\n      <td>2020-05-07</td>\n      <td>4</td>\n      <td>130574300</td>\n      <td>2018-12-09</td>\n    </tr>\n    <tr>\n      <th>4</th>\n      <td>2020-05-07</td>\n      <td>5</td>\n      <td>130292358</td>\n      <td>2019-01-08</td>\n    </tr>\n    <tr>\n      <th>...</th>\n      <td>...</td>\n      <td>...</td>\n      <td>...</td>\n      <td>...</td>\n    </tr>\n    <tr>\n      <th>122073</th>\n      <td>2020-05-07</td>\n      <td>122074</td>\n      <td>130470790</td>\n      <td>2018-12-21</td>\n    </tr>\n    <tr>\n      <th>122074</th>\n      <td>2020-05-07</td>\n      <td>122075</td>\n      <td>130911261</td>\n      <td>2018-11-09</td>\n    </tr>\n    <tr>\n      <th>122075</th>\n      <td>2020-05-07</td>\n      <td>122076</td>\n      <td>130494912</td>\n      <td>2018-10-27</td>\n    </tr>\n    <tr>\n      <th>122076</th>\n      <td>2020-05-07</td>\n      <td>122077</td>\n      <td>130910585</td>\n      <td>2018-12-05</td>\n    </tr>\n    <tr>\n      <th>122077</th>\n      <td>2020-05-07</td>\n      <td>122078</td>\n      <td>130558729</td>\n      <td>2019-01-22</td>\n    </tr>\n  </tbody>\n</table>\n<p>122078 rows × 4 columns</p>\n</div>"
     },
     "execution_count": 165,
     "metadata": {},
     "output_type": "execute_result"
    }
   ],
   "source": [
    "client_df"
   ],
   "metadata": {
    "collapsed": false,
    "ExecuteTime": {
     "end_time": "2025-01-09T20:09:17.316293600Z",
     "start_time": "2025-01-09T20:09:17.288327Z"
    }
   },
   "id": "a111f4297336a9f3"
  },
  {
   "cell_type": "code",
   "execution_count": 210,
   "outputs": [
    {
     "data": {
      "text/plain": "122078"
     },
     "execution_count": 210,
     "metadata": {},
     "output_type": "execute_result"
    }
   ],
   "source": [
    "client_df.client_union_id.nunique()"
   ],
   "metadata": {
    "collapsed": false,
    "ExecuteTime": {
     "end_time": "2025-01-09T20:36:36.036867200Z",
     "start_time": "2025-01-09T20:36:35.999712900Z"
    }
   },
   "id": "1a50f0ca100379d8"
  },
  {
   "cell_type": "code",
   "execution_count": 166,
   "outputs": [
    {
     "data": {
      "text/plain": "date               datetime64[ns]\nclient_union_id             int64\ncommunity_id                int64\ncreate_date        datetime64[ns]\ndtype: object"
     },
     "execution_count": 166,
     "metadata": {},
     "output_type": "execute_result"
    }
   ],
   "source": [
    "client_df.dtypes"
   ],
   "metadata": {
    "collapsed": false,
    "ExecuteTime": {
     "end_time": "2025-01-09T20:09:22.411430100Z",
     "start_time": "2025-01-09T20:09:22.397698700Z"
    }
   },
   "id": "cdf432a70c25bad8"
  },
  {
   "cell_type": "code",
   "execution_count": 167,
   "outputs": [],
   "source": [
    "merged = client_df.merge(df,on=['client_union_id'], suffixes=['_client_df', '_ads_df'])"
   ],
   "metadata": {
    "collapsed": false,
    "ExecuteTime": {
     "end_time": "2025-01-09T20:13:06.964842500Z",
     "start_time": "2025-01-09T20:13:06.730025700Z"
    }
   },
   "id": "2866e3dc9641b98a"
  },
  {
   "cell_type": "code",
   "execution_count": 169,
   "outputs": [
    {
     "data": {
      "text/plain": "  date_client_df  client_union_id  community_id create_date date_ads_df  \\\n0     2020-05-07                1     130371893  2018-12-24  2019-04-01   \n1     2020-05-07                1     130371893  2018-12-24  2019-04-01   \n2     2020-05-07                1     130371893  2018-12-24  2019-04-01   \n3     2020-05-07                1     130371893  2018-12-24  2019-04-01   \n4     2020-05-07                1     130371893  2018-12-24  2019-04-01   \n\n                 time event platform  ad_id  campaign_union_id ad_cost_type  \\\n0 2019-04-01 00:08:51  view  android      3                  1          CPC   \n1 2019-04-01 00:09:36  view      ios      3                  1          CPC   \n2 2019-04-01 00:29:30  view      ios      3                  1          CPC   \n3 2019-04-01 00:29:58  view  android      3                  1          CPC   \n4 2019-04-01 00:51:54  view  android      3                  1          CPC   \n\n   ad_cost  has_video  target_audience_count  \n0     46.7          0                  45035  \n1     46.7          0                  45035  \n2     46.7          0                  45035  \n3     46.7          0                  45035  \n4     46.7          0                  45035  ",
      "text/html": "<div>\n<style scoped>\n    .dataframe tbody tr th:only-of-type {\n        vertical-align: middle;\n    }\n\n    .dataframe tbody tr th {\n        vertical-align: top;\n    }\n\n    .dataframe thead th {\n        text-align: right;\n    }\n</style>\n<table border=\"1\" class=\"dataframe\">\n  <thead>\n    <tr style=\"text-align: right;\">\n      <th></th>\n      <th>date_client_df</th>\n      <th>client_union_id</th>\n      <th>community_id</th>\n      <th>create_date</th>\n      <th>date_ads_df</th>\n      <th>time</th>\n      <th>event</th>\n      <th>platform</th>\n      <th>ad_id</th>\n      <th>campaign_union_id</th>\n      <th>ad_cost_type</th>\n      <th>ad_cost</th>\n      <th>has_video</th>\n      <th>target_audience_count</th>\n    </tr>\n  </thead>\n  <tbody>\n    <tr>\n      <th>0</th>\n      <td>2020-05-07</td>\n      <td>1</td>\n      <td>130371893</td>\n      <td>2018-12-24</td>\n      <td>2019-04-01</td>\n      <td>2019-04-01 00:08:51</td>\n      <td>view</td>\n      <td>android</td>\n      <td>3</td>\n      <td>1</td>\n      <td>CPC</td>\n      <td>46.7</td>\n      <td>0</td>\n      <td>45035</td>\n    </tr>\n    <tr>\n      <th>1</th>\n      <td>2020-05-07</td>\n      <td>1</td>\n      <td>130371893</td>\n      <td>2018-12-24</td>\n      <td>2019-04-01</td>\n      <td>2019-04-01 00:09:36</td>\n      <td>view</td>\n      <td>ios</td>\n      <td>3</td>\n      <td>1</td>\n      <td>CPC</td>\n      <td>46.7</td>\n      <td>0</td>\n      <td>45035</td>\n    </tr>\n    <tr>\n      <th>2</th>\n      <td>2020-05-07</td>\n      <td>1</td>\n      <td>130371893</td>\n      <td>2018-12-24</td>\n      <td>2019-04-01</td>\n      <td>2019-04-01 00:29:30</td>\n      <td>view</td>\n      <td>ios</td>\n      <td>3</td>\n      <td>1</td>\n      <td>CPC</td>\n      <td>46.7</td>\n      <td>0</td>\n      <td>45035</td>\n    </tr>\n    <tr>\n      <th>3</th>\n      <td>2020-05-07</td>\n      <td>1</td>\n      <td>130371893</td>\n      <td>2018-12-24</td>\n      <td>2019-04-01</td>\n      <td>2019-04-01 00:29:58</td>\n      <td>view</td>\n      <td>android</td>\n      <td>3</td>\n      <td>1</td>\n      <td>CPC</td>\n      <td>46.7</td>\n      <td>0</td>\n      <td>45035</td>\n    </tr>\n    <tr>\n      <th>4</th>\n      <td>2020-05-07</td>\n      <td>1</td>\n      <td>130371893</td>\n      <td>2018-12-24</td>\n      <td>2019-04-01</td>\n      <td>2019-04-01 00:51:54</td>\n      <td>view</td>\n      <td>android</td>\n      <td>3</td>\n      <td>1</td>\n      <td>CPC</td>\n      <td>46.7</td>\n      <td>0</td>\n      <td>45035</td>\n    </tr>\n  </tbody>\n</table>\n</div>"
     },
     "execution_count": 169,
     "metadata": {},
     "output_type": "execute_result"
    }
   ],
   "source": [
    "merged.head()"
   ],
   "metadata": {
    "collapsed": false,
    "ExecuteTime": {
     "end_time": "2025-01-09T20:13:17.139133Z",
     "start_time": "2025-01-09T20:13:17.121496300Z"
    }
   },
   "id": "46f2832f5ae51e5c"
  },
  {
   "cell_type": "code",
   "execution_count": 211,
   "outputs": [
    {
     "data": {
      "text/plain": "838"
     },
     "execution_count": 211,
     "metadata": {},
     "output_type": "execute_result"
    }
   ],
   "source": [
    "merged.client_union_id.nunique()"
   ],
   "metadata": {
    "collapsed": false,
    "ExecuteTime": {
     "end_time": "2025-01-09T20:37:57.085725500Z",
     "start_time": "2025-01-09T20:37:57.061360300Z"
    }
   },
   "id": "3da96aa610a684f3"
  },
  {
   "cell_type": "code",
   "execution_count": 170,
   "outputs": [
    {
     "data": {
      "text/plain": "date_client_df           datetime64[ns]\nclient_union_id                   int64\ncommunity_id                      int64\ncreate_date              datetime64[ns]\ndate_ads_df              datetime64[ns]\ntime                     datetime64[ns]\nevent                            object\nplatform                         object\nad_id                             int64\ncampaign_union_id                 int64\nad_cost_type                     object\nad_cost                         float64\nhas_video                         int64\ntarget_audience_count             int64\ndtype: object"
     },
     "execution_count": 170,
     "metadata": {},
     "output_type": "execute_result"
    }
   ],
   "source": [
    "merged.dtypes"
   ],
   "metadata": {
    "collapsed": false,
    "ExecuteTime": {
     "end_time": "2025-01-09T20:13:49.482711Z",
     "start_time": "2025-01-09T20:13:49.459265700Z"
    }
   },
   "id": "d1eea16ce339d27f"
  },
  {
   "cell_type": "code",
   "execution_count": 171,
   "outputs": [],
   "source": [
    "merged['difference'] = merged['date_ads_df']- merged['create_date']"
   ],
   "metadata": {
    "collapsed": false,
    "ExecuteTime": {
     "end_time": "2025-01-09T20:15:29.274982400Z",
     "start_time": "2025-01-09T20:15:29.231892800Z"
    }
   },
   "id": "2120b38ab43fa149"
  },
  {
   "cell_type": "code",
   "execution_count": 220,
   "outputs": [],
   "source": [
    "min_diff = merged.groupby('client_union_id',as_index=False).difference.min().rename(columns={'difference':'min_date_to_first_ad'})"
   ],
   "metadata": {
    "collapsed": false,
    "ExecuteTime": {
     "end_time": "2025-01-09T20:44:44.855749700Z",
     "start_time": "2025-01-09T20:44:44.826264800Z"
    }
   },
   "id": "cc980b4fd3fec05"
  },
  {
   "cell_type": "code",
   "execution_count": 188,
   "outputs": [
    {
     "data": {
      "text/plain": "     client_union_id min_date_to_first_ad\n0                  1              98 days\n1                  9             114 days\n2                 13              66 days\n3                 16             105 days\n4                 20              32 days\n..               ...                  ...\n833           122004              67 days\n834           122013             151 days\n835           122023             126 days\n836           122031              96 days\n837           122078              71 days\n\n[838 rows x 2 columns]",
      "text/html": "<div>\n<style scoped>\n    .dataframe tbody tr th:only-of-type {\n        vertical-align: middle;\n    }\n\n    .dataframe tbody tr th {\n        vertical-align: top;\n    }\n\n    .dataframe thead th {\n        text-align: right;\n    }\n</style>\n<table border=\"1\" class=\"dataframe\">\n  <thead>\n    <tr style=\"text-align: right;\">\n      <th></th>\n      <th>client_union_id</th>\n      <th>min_date_to_first_ad</th>\n    </tr>\n  </thead>\n  <tbody>\n    <tr>\n      <th>0</th>\n      <td>1</td>\n      <td>98 days</td>\n    </tr>\n    <tr>\n      <th>1</th>\n      <td>9</td>\n      <td>114 days</td>\n    </tr>\n    <tr>\n      <th>2</th>\n      <td>13</td>\n      <td>66 days</td>\n    </tr>\n    <tr>\n      <th>3</th>\n      <td>16</td>\n      <td>105 days</td>\n    </tr>\n    <tr>\n      <th>4</th>\n      <td>20</td>\n      <td>32 days</td>\n    </tr>\n    <tr>\n      <th>...</th>\n      <td>...</td>\n      <td>...</td>\n    </tr>\n    <tr>\n      <th>833</th>\n      <td>122004</td>\n      <td>67 days</td>\n    </tr>\n    <tr>\n      <th>834</th>\n      <td>122013</td>\n      <td>151 days</td>\n    </tr>\n    <tr>\n      <th>835</th>\n      <td>122023</td>\n      <td>126 days</td>\n    </tr>\n    <tr>\n      <th>836</th>\n      <td>122031</td>\n      <td>96 days</td>\n    </tr>\n    <tr>\n      <th>837</th>\n      <td>122078</td>\n      <td>71 days</td>\n    </tr>\n  </tbody>\n</table>\n<p>838 rows × 2 columns</p>\n</div>"
     },
     "execution_count": 188,
     "metadata": {},
     "output_type": "execute_result"
    }
   ],
   "source": [
    "min_diff()"
   ],
   "metadata": {
    "collapsed": false,
    "ExecuteTime": {
     "end_time": "2025-01-09T20:26:43.357883500Z",
     "start_time": "2025-01-09T20:26:43.343967900Z"
    }
   },
   "id": "952fc01d8ebf990e"
  },
  {
   "cell_type": "code",
   "execution_count": 190,
   "outputs": [
    {
     "data": {
      "text/plain": "Timedelta('124 days 09:04:43.532219570')"
     },
     "execution_count": 190,
     "metadata": {},
     "output_type": "execute_result"
    }
   ],
   "source": [
    "min_diff.min_date_to_first_ad.mean()"
   ],
   "metadata": {
    "collapsed": false,
    "ExecuteTime": {
     "end_time": "2025-01-09T20:27:11.210931800Z",
     "start_time": "2025-01-09T20:27:11.185257500Z"
    }
   },
   "id": "72f7db0e701a0a3b"
  },
  {
   "cell_type": "code",
   "execution_count": 191,
   "outputs": [
    {
     "data": {
      "text/plain": "124"
     },
     "execution_count": 191,
     "metadata": {},
     "output_type": "execute_result"
    }
   ],
   "source": [
    "min_diff.min_date_to_first_ad.mean().days"
   ],
   "metadata": {
    "collapsed": false,
    "ExecuteTime": {
     "end_time": "2025-01-09T20:27:17.420936200Z",
     "start_time": "2025-01-09T20:27:17.383135700Z"
    }
   },
   "id": "e4a3162d64c58fdf"
  },
  {
   "cell_type": "code",
   "execution_count": 192,
   "outputs": [],
   "source": [
    "okno = pd.Timedelta(365, unit='day')"
   ],
   "metadata": {
    "collapsed": false,
    "ExecuteTime": {
     "end_time": "2025-01-09T20:27:19.541363600Z",
     "start_time": "2025-01-09T20:27:19.528185800Z"
    }
   },
   "id": "4b4e4c7e591e00e5"
  },
  {
   "cell_type": "code",
   "execution_count": 195,
   "outputs": [],
   "source": [
    "baba = min_diff.loc[min_diff.min_date_to_first_ad < okno]"
   ],
   "metadata": {
    "collapsed": false,
    "ExecuteTime": {
     "end_time": "2025-01-09T20:31:42.296229100Z",
     "start_time": "2025-01-09T20:31:42.290475800Z"
    }
   },
   "id": "a9db54ce5596bfa8"
  },
  {
   "cell_type": "code",
   "execution_count": 213,
   "outputs": [],
   "source": [],
   "metadata": {
    "collapsed": false,
    "ExecuteTime": {
     "end_time": "2025-01-09T20:39:21.401090600Z",
     "start_time": "2025-01-09T20:39:21.376607300Z"
    }
   },
   "id": "a9d0aa6621213c29"
  },
  {
   "cell_type": "code",
   "execution_count": 214,
   "outputs": [
    {
     "data": {
      "text/plain": "838"
     },
     "execution_count": 214,
     "metadata": {},
     "output_type": "execute_result"
    }
   ],
   "source": [
    "df.client_union_id.nunique()"
   ],
   "metadata": {
    "collapsed": false,
    "ExecuteTime": {
     "end_time": "2025-01-09T20:39:22.611674100Z",
     "start_time": "2025-01-09T20:39:22.599463100Z"
    }
   },
   "id": "943a72be71817a72"
  },
  {
   "cell_type": "code",
   "execution_count": 216,
   "outputs": [
    {
     "data": {
      "text/plain": "0.69"
     },
     "execution_count": 216,
     "metadata": {},
     "output_type": "execute_result"
    }
   ],
   "source": [
    "float(\n",
    "    np.round(len(baba) / client_df.client_union_id.nunique() * 100,2))"
   ],
   "metadata": {
    "collapsed": false,
    "ExecuteTime": {
     "end_time": "2025-01-09T20:40:47.217594700Z",
     "start_time": "2025-01-09T20:40:47.195713Z"
    }
   },
   "id": "ab85358a4fe661a1"
  },
  {
   "cell_type": "code",
   "execution_count": 223,
   "outputs": [],
   "source": [
    "bins = [0,30,90,180,365]\n",
    "bins = [pd.Timedelta(x,'d') for x in bins]\n",
    "labels = ['0-30','30-90','90-180','180-365']\n",
    "ga = pd.cut(min_diff.min_date_to_first_ad, bins,labels=labels)"
   ],
   "metadata": {
    "collapsed": false,
    "ExecuteTime": {
     "end_time": "2025-01-09T20:47:18.691862600Z",
     "start_time": "2025-01-09T20:47:18.674098100Z"
    }
   },
   "id": "b5c9b72cdb7fa6b2"
  },
  {
   "cell_type": "code",
   "execution_count": 224,
   "outputs": [
    {
     "data": {
      "text/plain": "min_date_to_first_ad\n90-180     396\n30-90      263\n180-365    168\n0-30        11\nName: count, dtype: int64"
     },
     "execution_count": 224,
     "metadata": {},
     "output_type": "execute_result"
    }
   ],
   "source": [
    "ga.value_counts()"
   ],
   "metadata": {
    "collapsed": false,
    "ExecuteTime": {
     "end_time": "2025-01-09T20:47:19.411066400Z",
     "start_time": "2025-01-09T20:47:19.395575700Z"
    }
   },
   "id": "29a584c159c7374f"
  },
  {
   "cell_type": "code",
   "execution_count": null,
   "outputs": [],
   "source": [],
   "metadata": {
    "collapsed": false
   },
   "id": "4d37310eee4f6b49"
  }
 ],
 "metadata": {
  "kernelspec": {
   "display_name": "Python 3",
   "language": "python",
   "name": "python3"
  },
  "language_info": {
   "codemirror_mode": {
    "name": "ipython",
    "version": 2
   },
   "file_extension": ".py",
   "mimetype": "text/x-python",
   "name": "python",
   "nbconvert_exporter": "python",
   "pygments_lexer": "ipython2",
   "version": "2.7.6"
  }
 },
 "nbformat": 4,
 "nbformat_minor": 5
}
