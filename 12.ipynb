{
 "cells": [
  {
   "cell_type": "code",
   "execution_count": 2,
   "id": "initial_id",
   "metadata": {
    "collapsed": true,
    "ExecuteTime": {
     "end_time": "2025-01-10T14:41:56.832887100Z",
     "start_time": "2025-01-10T14:41:56.404294600Z"
    }
   },
   "outputs": [],
   "source": [
    "import re\n",
    "\n",
    "import pandas as pd\n",
    "import seaborn as sns\n",
    "import matplotlib.pyplot as plt\n",
    "\n",
    "import numpy as np\n",
    "import os\n",
    "import zipfile\n",
    "import xlrd\n",
    "import plotly.express as px\n",
    "import re\n",
    "\n",
    "import vk_api\n",
    "import requests\n",
    "import json\n",
    "import random\n",
    "import datetime\n"
   ]
  },
  {
   "cell_type": "code",
   "execution_count": 3,
   "outputs": [],
   "source": [
    "token = 'vk1.a.H9c7Hft_2Ur_4Ud92X36vXDlXOB11WvjFWYDhYCcTrUES_snTFdWyl-hqHUaB_lnE4zAXq8-mnthEFp2ciXcmq-R1lQNzpgw-wUk7oI3nFEhN9Lf88lhu2Z59Fq_aoc0cBmbtZoFpmruBLNfDQs69axDKWsj_bBHizoB_1VnNTJgOg7pWt4z6UA0vebeoWsliKdvAtYSkpKPxS8rRcAyUw'"
   ],
   "metadata": {
    "collapsed": false,
    "ExecuteTime": {
     "end_time": "2025-01-10T14:42:05.575994300Z",
     "start_time": "2025-01-10T14:42:05.569523600Z"
    }
   },
   "id": "3390f9242be86dff"
  },
  {
   "cell_type": "code",
   "execution_count": 4,
   "outputs": [],
   "source": [
    "vk_session = vk_api.VkApi(token=token)\n",
    "vk = vk_session.get_api()"
   ],
   "metadata": {
    "collapsed": false,
    "ExecuteTime": {
     "end_time": "2025-01-10T14:42:57.082565900Z",
     "start_time": "2025-01-10T14:42:57.055697100Z"
    }
   },
   "id": "44de7b4fe3f5d8d9"
  },
  {
   "cell_type": "code",
   "execution_count": 6,
   "outputs": [
    {
     "data": {
      "text/plain": "0"
     },
     "execution_count": 6,
     "metadata": {},
     "output_type": "execute_result"
    }
   ],
   "source": [
    "vk.messages.send(\n",
    "    chat_id=1,\n",
    "    random_id=1,\n",
    "    message='Wake up, Neo'\n",
    ")"
   ],
   "metadata": {
    "collapsed": false,
    "ExecuteTime": {
     "end_time": "2025-01-10T14:44:47.113036300Z",
     "start_time": "2025-01-10T14:44:46.969825600Z"
    }
   },
   "id": "becf1ea67bcd4a29"
  },
  {
   "cell_type": "code",
   "execution_count": null,
   "outputs": [],
   "source": [],
   "metadata": {
    "collapsed": false
   },
   "id": "a96e57c9488e7cb8"
  },
  {
   "cell_type": "code",
   "execution_count": null,
   "outputs": [],
   "source": [],
   "metadata": {
    "collapsed": false
   },
   "id": "e7116639c72bb7cc"
  },
  {
   "cell_type": "code",
   "execution_count": null,
   "outputs": [],
   "source": [
    "df = pd.read_csv(r'datasets/', )"
   ],
   "metadata": {
    "collapsed": false
   },
   "id": "c819314c43886b75"
  },
  {
   "cell_type": "code",
   "execution_count": null,
   "outputs": [],
   "source": [
    "df.head()"
   ],
   "metadata": {
    "collapsed": false
   },
   "id": "caf0a9f72927ff61"
  },
  {
   "cell_type": "code",
   "execution_count": null,
   "outputs": [],
   "source": [
    "df.dtypes"
   ],
   "metadata": {
    "collapsed": false
   },
   "id": "447d708db0eb550a"
  },
  {
   "cell_type": "code",
   "execution_count": null,
   "outputs": [],
   "source": [
    "parse_dates=['date', 'time']"
   ],
   "metadata": {
    "collapsed": false
   },
   "id": "2d05d9f331a7f9c0"
  }
 ],
 "metadata": {
  "kernelspec": {
   "display_name": "Python 3",
   "language": "python",
   "name": "python3"
  },
  "language_info": {
   "codemirror_mode": {
    "name": "ipython",
    "version": 2
   },
   "file_extension": ".py",
   "mimetype": "text/x-python",
   "name": "python",
   "nbconvert_exporter": "python",
   "pygments_lexer": "ipython2",
   "version": "2.7.6"
  }
 },
 "nbformat": 4,
 "nbformat_minor": 5
}
