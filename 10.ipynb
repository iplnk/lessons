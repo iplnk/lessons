{
 "cells": [
  {
   "cell_type": "code",
   "execution_count": 1,
   "id": "initial_id",
   "metadata": {
    "collapsed": true,
    "ExecuteTime": {
     "end_time": "2025-01-09T16:45:39.908790700Z",
     "start_time": "2025-01-09T16:45:39.841085700Z"
    }
   },
   "outputs": [],
   "source": [
    "import re\n",
    "\n",
    "import pandas as pd\n",
    "import seaborn as sns\n",
    "import matplotlib.pyplot as plt\n",
    "\n",
    "import numpy as np\n",
    "import os\n",
    "import zipfile\n",
    "import xlrd\n",
    "import plotly.express as px\n",
    "import re"
   ]
  },
  {
   "cell_type": "code",
   "execution_count": 33,
   "outputs": [],
   "source": [
    "# df = pd.read_csv(\"https://stepik.org/media/attachments/lesson/362453/avocado_mean.csv\",index_col=0, parse_dates=['Date'])"
   ],
   "metadata": {
    "collapsed": false,
    "ExecuteTime": {
     "end_time": "2025-01-09T16:58:49.958799100Z",
     "start_time": "2025-01-09T16:58:49.946995400Z"
    }
   },
   "id": "44b90f16647d8404"
  },
  {
   "cell_type": "code",
   "execution_count": 35,
   "outputs": [],
   "source": [
    "df = pd.read_csv(r'datasets/delays.csv')"
   ],
   "metadata": {
    "collapsed": false,
    "ExecuteTime": {
     "end_time": "2025-01-09T16:59:40.063880Z",
     "start_time": "2025-01-09T16:59:40.049335800Z"
    }
   },
   "id": "bb74c1a2972ca888"
  },
  {
   "cell_type": "code",
   "execution_count": 36,
   "outputs": [
    {
     "data": {
      "text/plain": "     client_id  company_id                        delay  revenue\n0         2389        4240  -1 days -14:57:48.000000000   705436\n1         7614        9544  -4 days -02:14:23.000000000   859266\n2         2052        2427  -0 days -06:08:57.000000000   812416\n3         9635        8054  -0 days -23:40:19.000000000   162312\n4         8154        5503  -1 days -13:21:53.000000000   658844\n..         ...         ...                          ...      ...\n259       5837        2617  -0 days -05:32:08.000000000   602129\n260       2384        2364  -3 days -23:27:14.000000000   910660\n261       5146        3331  -1 days -15:22:34.000000000   401137\n262       7203        5532  -2 days -17:15:02.000000000   308979\n263       3822        9882  -1 days -15:50:29.000000000   877773\n\n[264 rows x 4 columns]",
      "text/html": "<div>\n<style scoped>\n    .dataframe tbody tr th:only-of-type {\n        vertical-align: middle;\n    }\n\n    .dataframe tbody tr th {\n        vertical-align: top;\n    }\n\n    .dataframe thead th {\n        text-align: right;\n    }\n</style>\n<table border=\"1\" class=\"dataframe\">\n  <thead>\n    <tr style=\"text-align: right;\">\n      <th></th>\n      <th>client_id</th>\n      <th>company_id</th>\n      <th>delay</th>\n      <th>revenue</th>\n    </tr>\n  </thead>\n  <tbody>\n    <tr>\n      <th>0</th>\n      <td>2389</td>\n      <td>4240</td>\n      <td>-1 days -14:57:48.000000000</td>\n      <td>705436</td>\n    </tr>\n    <tr>\n      <th>1</th>\n      <td>7614</td>\n      <td>9544</td>\n      <td>-4 days -02:14:23.000000000</td>\n      <td>859266</td>\n    </tr>\n    <tr>\n      <th>2</th>\n      <td>2052</td>\n      <td>2427</td>\n      <td>-0 days -06:08:57.000000000</td>\n      <td>812416</td>\n    </tr>\n    <tr>\n      <th>3</th>\n      <td>9635</td>\n      <td>8054</td>\n      <td>-0 days -23:40:19.000000000</td>\n      <td>162312</td>\n    </tr>\n    <tr>\n      <th>4</th>\n      <td>8154</td>\n      <td>5503</td>\n      <td>-1 days -13:21:53.000000000</td>\n      <td>658844</td>\n    </tr>\n    <tr>\n      <th>...</th>\n      <td>...</td>\n      <td>...</td>\n      <td>...</td>\n      <td>...</td>\n    </tr>\n    <tr>\n      <th>259</th>\n      <td>5837</td>\n      <td>2617</td>\n      <td>-0 days -05:32:08.000000000</td>\n      <td>602129</td>\n    </tr>\n    <tr>\n      <th>260</th>\n      <td>2384</td>\n      <td>2364</td>\n      <td>-3 days -23:27:14.000000000</td>\n      <td>910660</td>\n    </tr>\n    <tr>\n      <th>261</th>\n      <td>5146</td>\n      <td>3331</td>\n      <td>-1 days -15:22:34.000000000</td>\n      <td>401137</td>\n    </tr>\n    <tr>\n      <th>262</th>\n      <td>7203</td>\n      <td>5532</td>\n      <td>-2 days -17:15:02.000000000</td>\n      <td>308979</td>\n    </tr>\n    <tr>\n      <th>263</th>\n      <td>3822</td>\n      <td>9882</td>\n      <td>-1 days -15:50:29.000000000</td>\n      <td>877773</td>\n    </tr>\n  </tbody>\n</table>\n<p>264 rows × 4 columns</p>\n</div>"
     },
     "execution_count": 36,
     "metadata": {},
     "output_type": "execute_result"
    }
   ],
   "source": [
    "df"
   ],
   "metadata": {
    "collapsed": false,
    "ExecuteTime": {
     "end_time": "2025-01-09T16:59:41.074389800Z",
     "start_time": "2025-01-09T16:59:41.066027700Z"
    }
   },
   "id": "d60e0efc49919d9c"
  },
  {
   "cell_type": "code",
   "execution_count": 37,
   "outputs": [
    {
     "data": {
      "text/plain": "client_id      int64\ncompany_id     int64\ndelay         object\nrevenue        int64\ndtype: object"
     },
     "execution_count": 37,
     "metadata": {},
     "output_type": "execute_result"
    }
   ],
   "source": [
    "df.dtypes"
   ],
   "metadata": {
    "collapsed": false,
    "ExecuteTime": {
     "end_time": "2025-01-09T16:59:48.877367Z",
     "start_time": "2025-01-09T16:59:48.864779900Z"
    }
   },
   "id": "88aedc19d92b6394"
  },
  {
   "cell_type": "code",
   "execution_count": 39,
   "outputs": [],
   "source": [
    "df.delay = df.delay.str.replace('-','')"
   ],
   "metadata": {
    "collapsed": false,
    "ExecuteTime": {
     "end_time": "2025-01-09T17:01:15.515498Z",
     "start_time": "2025-01-09T17:01:15.509421400Z"
    }
   },
   "id": "9c4fe038b8bdd01b"
  },
  {
   "cell_type": "code",
   "execution_count": 40,
   "outputs": [
    {
     "data": {
      "text/plain": "     client_id  company_id                      delay  revenue\n0         2389        4240  1 days 14:57:48.000000000   705436\n1         7614        9544  4 days 02:14:23.000000000   859266\n2         2052        2427  0 days 06:08:57.000000000   812416\n3         9635        8054  0 days 23:40:19.000000000   162312\n4         8154        5503  1 days 13:21:53.000000000   658844\n..         ...         ...                        ...      ...\n259       5837        2617  0 days 05:32:08.000000000   602129\n260       2384        2364  3 days 23:27:14.000000000   910660\n261       5146        3331  1 days 15:22:34.000000000   401137\n262       7203        5532  2 days 17:15:02.000000000   308979\n263       3822        9882  1 days 15:50:29.000000000   877773\n\n[264 rows x 4 columns]",
      "text/html": "<div>\n<style scoped>\n    .dataframe tbody tr th:only-of-type {\n        vertical-align: middle;\n    }\n\n    .dataframe tbody tr th {\n        vertical-align: top;\n    }\n\n    .dataframe thead th {\n        text-align: right;\n    }\n</style>\n<table border=\"1\" class=\"dataframe\">\n  <thead>\n    <tr style=\"text-align: right;\">\n      <th></th>\n      <th>client_id</th>\n      <th>company_id</th>\n      <th>delay</th>\n      <th>revenue</th>\n    </tr>\n  </thead>\n  <tbody>\n    <tr>\n      <th>0</th>\n      <td>2389</td>\n      <td>4240</td>\n      <td>1 days 14:57:48.000000000</td>\n      <td>705436</td>\n    </tr>\n    <tr>\n      <th>1</th>\n      <td>7614</td>\n      <td>9544</td>\n      <td>4 days 02:14:23.000000000</td>\n      <td>859266</td>\n    </tr>\n    <tr>\n      <th>2</th>\n      <td>2052</td>\n      <td>2427</td>\n      <td>0 days 06:08:57.000000000</td>\n      <td>812416</td>\n    </tr>\n    <tr>\n      <th>3</th>\n      <td>9635</td>\n      <td>8054</td>\n      <td>0 days 23:40:19.000000000</td>\n      <td>162312</td>\n    </tr>\n    <tr>\n      <th>4</th>\n      <td>8154</td>\n      <td>5503</td>\n      <td>1 days 13:21:53.000000000</td>\n      <td>658844</td>\n    </tr>\n    <tr>\n      <th>...</th>\n      <td>...</td>\n      <td>...</td>\n      <td>...</td>\n      <td>...</td>\n    </tr>\n    <tr>\n      <th>259</th>\n      <td>5837</td>\n      <td>2617</td>\n      <td>0 days 05:32:08.000000000</td>\n      <td>602129</td>\n    </tr>\n    <tr>\n      <th>260</th>\n      <td>2384</td>\n      <td>2364</td>\n      <td>3 days 23:27:14.000000000</td>\n      <td>910660</td>\n    </tr>\n    <tr>\n      <th>261</th>\n      <td>5146</td>\n      <td>3331</td>\n      <td>1 days 15:22:34.000000000</td>\n      <td>401137</td>\n    </tr>\n    <tr>\n      <th>262</th>\n      <td>7203</td>\n      <td>5532</td>\n      <td>2 days 17:15:02.000000000</td>\n      <td>308979</td>\n    </tr>\n    <tr>\n      <th>263</th>\n      <td>3822</td>\n      <td>9882</td>\n      <td>1 days 15:50:29.000000000</td>\n      <td>877773</td>\n    </tr>\n  </tbody>\n</table>\n<p>264 rows × 4 columns</p>\n</div>"
     },
     "execution_count": 40,
     "metadata": {},
     "output_type": "execute_result"
    }
   ],
   "source": [
    "df"
   ],
   "metadata": {
    "collapsed": false,
    "ExecuteTime": {
     "end_time": "2025-01-09T17:01:18.530036900Z",
     "start_time": "2025-01-09T17:01:18.508502Z"
    }
   },
   "id": "243cd276d7947a46"
  },
  {
   "cell_type": "code",
   "execution_count": 41,
   "outputs": [],
   "source": [
    "df.delay = pd.to_timedelta(df.delay)"
   ],
   "metadata": {
    "collapsed": false,
    "ExecuteTime": {
     "end_time": "2025-01-09T17:01:39.682188800Z",
     "start_time": "2025-01-09T17:01:39.660955500Z"
    }
   },
   "id": "2e44cf51c6e4cf4c"
  },
  {
   "cell_type": "code",
   "execution_count": 42,
   "outputs": [
    {
     "data": {
      "text/plain": "     client_id  company_id           delay  revenue\n0         2389        4240 1 days 14:57:48   705436\n1         7614        9544 4 days 02:14:23   859266\n2         2052        2427 0 days 06:08:57   812416\n3         9635        8054 0 days 23:40:19   162312\n4         8154        5503 1 days 13:21:53   658844\n..         ...         ...             ...      ...\n259       5837        2617 0 days 05:32:08   602129\n260       2384        2364 3 days 23:27:14   910660\n261       5146        3331 1 days 15:22:34   401137\n262       7203        5532 2 days 17:15:02   308979\n263       3822        9882 1 days 15:50:29   877773\n\n[264 rows x 4 columns]",
      "text/html": "<div>\n<style scoped>\n    .dataframe tbody tr th:only-of-type {\n        vertical-align: middle;\n    }\n\n    .dataframe tbody tr th {\n        vertical-align: top;\n    }\n\n    .dataframe thead th {\n        text-align: right;\n    }\n</style>\n<table border=\"1\" class=\"dataframe\">\n  <thead>\n    <tr style=\"text-align: right;\">\n      <th></th>\n      <th>client_id</th>\n      <th>company_id</th>\n      <th>delay</th>\n      <th>revenue</th>\n    </tr>\n  </thead>\n  <tbody>\n    <tr>\n      <th>0</th>\n      <td>2389</td>\n      <td>4240</td>\n      <td>1 days 14:57:48</td>\n      <td>705436</td>\n    </tr>\n    <tr>\n      <th>1</th>\n      <td>7614</td>\n      <td>9544</td>\n      <td>4 days 02:14:23</td>\n      <td>859266</td>\n    </tr>\n    <tr>\n      <th>2</th>\n      <td>2052</td>\n      <td>2427</td>\n      <td>0 days 06:08:57</td>\n      <td>812416</td>\n    </tr>\n    <tr>\n      <th>3</th>\n      <td>9635</td>\n      <td>8054</td>\n      <td>0 days 23:40:19</td>\n      <td>162312</td>\n    </tr>\n    <tr>\n      <th>4</th>\n      <td>8154</td>\n      <td>5503</td>\n      <td>1 days 13:21:53</td>\n      <td>658844</td>\n    </tr>\n    <tr>\n      <th>...</th>\n      <td>...</td>\n      <td>...</td>\n      <td>...</td>\n      <td>...</td>\n    </tr>\n    <tr>\n      <th>259</th>\n      <td>5837</td>\n      <td>2617</td>\n      <td>0 days 05:32:08</td>\n      <td>602129</td>\n    </tr>\n    <tr>\n      <th>260</th>\n      <td>2384</td>\n      <td>2364</td>\n      <td>3 days 23:27:14</td>\n      <td>910660</td>\n    </tr>\n    <tr>\n      <th>261</th>\n      <td>5146</td>\n      <td>3331</td>\n      <td>1 days 15:22:34</td>\n      <td>401137</td>\n    </tr>\n    <tr>\n      <th>262</th>\n      <td>7203</td>\n      <td>5532</td>\n      <td>2 days 17:15:02</td>\n      <td>308979</td>\n    </tr>\n    <tr>\n      <th>263</th>\n      <td>3822</td>\n      <td>9882</td>\n      <td>1 days 15:50:29</td>\n      <td>877773</td>\n    </tr>\n  </tbody>\n</table>\n<p>264 rows × 4 columns</p>\n</div>"
     },
     "execution_count": 42,
     "metadata": {},
     "output_type": "execute_result"
    }
   ],
   "source": [
    "df"
   ],
   "metadata": {
    "collapsed": false,
    "ExecuteTime": {
     "end_time": "2025-01-09T17:01:41.674219600Z",
     "start_time": "2025-01-09T17:01:41.659366Z"
    }
   },
   "id": "390408bee1d8a30"
  },
  {
   "cell_type": "code",
   "execution_count": 43,
   "outputs": [
    {
     "data": {
      "text/plain": "client_id               int64\ncompany_id              int64\ndelay         timedelta64[ns]\nrevenue                 int64\ndtype: object"
     },
     "execution_count": 43,
     "metadata": {},
     "output_type": "execute_result"
    }
   ],
   "source": [
    "df.dtypes"
   ],
   "metadata": {
    "collapsed": false,
    "ExecuteTime": {
     "end_time": "2025-01-09T17:01:52.045079900Z",
     "start_time": "2025-01-09T17:01:52.027003Z"
    }
   },
   "id": "43c1e29a6390b58a"
  },
  {
   "cell_type": "code",
   "execution_count": 44,
   "outputs": [],
   "source": [
    "df['cutting'] = pd.cut(df.delay,3)"
   ],
   "metadata": {
    "collapsed": false,
    "ExecuteTime": {
     "end_time": "2025-01-09T17:04:24.848161100Z",
     "start_time": "2025-01-09T17:04:24.826640700Z"
    }
   },
   "id": "a8bd447de57d16d5"
  },
  {
   "cell_type": "code",
   "execution_count": 45,
   "outputs": [
    {
     "data": {
      "text/plain": "     client_id  company_id           delay  revenue  \\\n0         2389        4240 1 days 14:57:48   705436   \n1         7614        9544 4 days 02:14:23   859266   \n2         2052        2427 0 days 06:08:57   812416   \n3         9635        8054 0 days 23:40:19   162312   \n4         8154        5503 1 days 13:21:53   658844   \n..         ...         ...             ...      ...   \n259       5837        2617 0 days 05:32:08   602129   \n260       2384        2364 3 days 23:27:14   910660   \n261       5146        3331 1 days 15:22:34   401137   \n262       7203        5532 2 days 17:15:02   308979   \n263       3822        9882 1 days 15:50:29   877773   \n\n                                               cutting  \n0    (0 days 00:27:11.587000, 1 days 16:19:58.66666...  \n1         (3 days 08:05:36.333333333, 4 days 23:51:14]  \n2    (0 days 00:27:11.587000, 1 days 16:19:58.66666...  \n3    (0 days 00:27:11.587000, 1 days 16:19:58.66666...  \n4    (0 days 00:27:11.587000, 1 days 16:19:58.66666...  \n..                                                 ...  \n259  (0 days 00:27:11.587000, 1 days 16:19:58.66666...  \n260       (3 days 08:05:36.333333333, 4 days 23:51:14]  \n261  (0 days 00:27:11.587000, 1 days 16:19:58.66666...  \n262  (1 days 16:19:58.666666666, 3 days 08:05:36.33...  \n263  (0 days 00:27:11.587000, 1 days 16:19:58.66666...  \n\n[264 rows x 5 columns]",
      "text/html": "<div>\n<style scoped>\n    .dataframe tbody tr th:only-of-type {\n        vertical-align: middle;\n    }\n\n    .dataframe tbody tr th {\n        vertical-align: top;\n    }\n\n    .dataframe thead th {\n        text-align: right;\n    }\n</style>\n<table border=\"1\" class=\"dataframe\">\n  <thead>\n    <tr style=\"text-align: right;\">\n      <th></th>\n      <th>client_id</th>\n      <th>company_id</th>\n      <th>delay</th>\n      <th>revenue</th>\n      <th>cutting</th>\n    </tr>\n  </thead>\n  <tbody>\n    <tr>\n      <th>0</th>\n      <td>2389</td>\n      <td>4240</td>\n      <td>1 days 14:57:48</td>\n      <td>705436</td>\n      <td>(0 days 00:27:11.587000, 1 days 16:19:58.66666...</td>\n    </tr>\n    <tr>\n      <th>1</th>\n      <td>7614</td>\n      <td>9544</td>\n      <td>4 days 02:14:23</td>\n      <td>859266</td>\n      <td>(3 days 08:05:36.333333333, 4 days 23:51:14]</td>\n    </tr>\n    <tr>\n      <th>2</th>\n      <td>2052</td>\n      <td>2427</td>\n      <td>0 days 06:08:57</td>\n      <td>812416</td>\n      <td>(0 days 00:27:11.587000, 1 days 16:19:58.66666...</td>\n    </tr>\n    <tr>\n      <th>3</th>\n      <td>9635</td>\n      <td>8054</td>\n      <td>0 days 23:40:19</td>\n      <td>162312</td>\n      <td>(0 days 00:27:11.587000, 1 days 16:19:58.66666...</td>\n    </tr>\n    <tr>\n      <th>4</th>\n      <td>8154</td>\n      <td>5503</td>\n      <td>1 days 13:21:53</td>\n      <td>658844</td>\n      <td>(0 days 00:27:11.587000, 1 days 16:19:58.66666...</td>\n    </tr>\n    <tr>\n      <th>...</th>\n      <td>...</td>\n      <td>...</td>\n      <td>...</td>\n      <td>...</td>\n      <td>...</td>\n    </tr>\n    <tr>\n      <th>259</th>\n      <td>5837</td>\n      <td>2617</td>\n      <td>0 days 05:32:08</td>\n      <td>602129</td>\n      <td>(0 days 00:27:11.587000, 1 days 16:19:58.66666...</td>\n    </tr>\n    <tr>\n      <th>260</th>\n      <td>2384</td>\n      <td>2364</td>\n      <td>3 days 23:27:14</td>\n      <td>910660</td>\n      <td>(3 days 08:05:36.333333333, 4 days 23:51:14]</td>\n    </tr>\n    <tr>\n      <th>261</th>\n      <td>5146</td>\n      <td>3331</td>\n      <td>1 days 15:22:34</td>\n      <td>401137</td>\n      <td>(0 days 00:27:11.587000, 1 days 16:19:58.66666...</td>\n    </tr>\n    <tr>\n      <th>262</th>\n      <td>7203</td>\n      <td>5532</td>\n      <td>2 days 17:15:02</td>\n      <td>308979</td>\n      <td>(1 days 16:19:58.666666666, 3 days 08:05:36.33...</td>\n    </tr>\n    <tr>\n      <th>263</th>\n      <td>3822</td>\n      <td>9882</td>\n      <td>1 days 15:50:29</td>\n      <td>877773</td>\n      <td>(0 days 00:27:11.587000, 1 days 16:19:58.66666...</td>\n    </tr>\n  </tbody>\n</table>\n<p>264 rows × 5 columns</p>\n</div>"
     },
     "execution_count": 45,
     "metadata": {},
     "output_type": "execute_result"
    }
   ],
   "source": [
    "df"
   ],
   "metadata": {
    "collapsed": false,
    "ExecuteTime": {
     "end_time": "2025-01-09T17:04:26.972295700Z",
     "start_time": "2025-01-09T17:04:26.956437600Z"
    }
   },
   "id": "96718de4fd03e0b2"
  },
  {
   "cell_type": "code",
   "execution_count": null,
   "outputs": [],
   "source": [],
   "metadata": {
    "collapsed": false
   },
   "id": "28e8d8c2336d152b"
  }
 ],
 "metadata": {
  "kernelspec": {
   "display_name": "Python 3",
   "language": "python",
   "name": "python3"
  },
  "language_info": {
   "codemirror_mode": {
    "name": "ipython",
    "version": 2
   },
   "file_extension": ".py",
   "mimetype": "text/x-python",
   "name": "python",
   "nbconvert_exporter": "python",
   "pygments_lexer": "ipython2",
   "version": "2.7.6"
  }
 },
 "nbformat": 4,
 "nbformat_minor": 5
}
