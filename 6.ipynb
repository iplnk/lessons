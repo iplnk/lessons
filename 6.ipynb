{
 "cells": [
  {
   "cell_type": "code",
   "execution_count": 90,
   "id": "initial_id",
   "metadata": {
    "collapsed": true,
    "ExecuteTime": {
     "end_time": "2025-01-08T19:01:23.735805900Z",
     "start_time": "2025-01-08T19:01:23.725190800Z"
    }
   },
   "outputs": [],
   "source": [
    "import pandas as pd\n",
    "import seaborn as sns\n",
    "import matplotlib.pyplot as plt\n",
    "\n",
    "import numpy as np\n",
    "import os\n",
    "import zipfile"
   ]
  },
  {
   "cell_type": "code",
   "execution_count": 8,
   "outputs": [
    {
     "data": {
      "text/plain": "['2 lesson_2_data.csv',\n '2_bookings.csv',\n '2_taxi_nyc.csv',\n '3 lesson_3_data_1_.csv',\n '3_logs.csv',\n '3_taxi_peru.csv',\n '3_user_data.csv',\n '4_data.zip',\n '4_inn.xls',\n '5_lesson_5_ads_data.csv',\n '5_transaction_data.csv',\n '5_transaction_data_updated.csv',\n '6_ads.zip',\n '7_ads_data.csv',\n '7_step_1_lesson.csv',\n 'invoices_6.csv',\n 'money_city.csv',\n 'order_leads_6.csv',\n 'sales_team_6.csv']"
     },
     "execution_count": 8,
     "metadata": {},
     "output_type": "execute_result"
    }
   ],
   "source": [
    "os.listdir('datasets')"
   ],
   "metadata": {
    "collapsed": false,
    "ExecuteTime": {
     "end_time": "2025-01-08T17:18:48.780254700Z",
     "start_time": "2025-01-08T17:18:48.772431600Z"
    }
   },
   "id": "fcad9ad7ca1460a3"
  },
  {
   "cell_type": "code",
   "execution_count": 10,
   "outputs": [
    {
     "data": {
      "text/plain": "'C:\\\\Users\\\\Илья\\\\Desktop\\\\lesson'"
     },
     "execution_count": 10,
     "metadata": {},
     "output_type": "execute_result"
    }
   ],
   "source": [
    "os.getcwd()"
   ],
   "metadata": {
    "collapsed": false,
    "ExecuteTime": {
     "end_time": "2025-01-08T18:09:23.044267100Z",
     "start_time": "2025-01-08T18:09:23.036157Z"
    }
   },
   "id": "8854908893594aa2"
  },
  {
   "cell_type": "code",
   "execution_count": 14,
   "outputs": [],
   "source": [
    "file_path = r'C:\\Users\\Илья\\Desktop\\lesson\\data'\n"
   ],
   "metadata": {
    "collapsed": false,
    "ExecuteTime": {
     "end_time": "2025-01-08T18:12:10.008116400Z",
     "start_time": "2025-01-08T18:12:10.000797100Z"
    }
   },
   "id": "9a114d67801e10ca"
  },
  {
   "cell_type": "code",
   "execution_count": 16,
   "outputs": [],
   "source": [
    "tree = os.walk('data')"
   ],
   "metadata": {
    "collapsed": false,
    "ExecuteTime": {
     "end_time": "2025-01-08T18:17:22.493360500Z",
     "start_time": "2025-01-08T18:17:22.484222400Z"
    }
   },
   "id": "8c0422aecbc60fbc"
  },
  {
   "cell_type": "code",
   "execution_count": 18,
   "outputs": [
    {
     "name": "stdout",
     "output_type": "stream",
     "text": [
      "('data', ['2020-12-03', '2020-12-04', '2020-12-05', '2020-12-06', '2020-12-07', '2020-12-08', '2020-12-09'], [])\n",
      "('data\\\\2020-12-03', ['Alexey_Smirnov', 'Anton_Petrov', 'Kirill_Petrov', 'Petr_Fedorov', 'Vasiliy_Ivanov', 'Vasiliy_Petrov'], [])\n",
      "('data\\\\2020-12-03\\\\Alexey_Smirnov', [], ['data.csv'])\n",
      "('data\\\\2020-12-03\\\\Anton_Petrov', [], ['data.csv'])\n",
      "('data\\\\2020-12-03\\\\Kirill_Petrov', [], ['data.csv'])\n",
      "('data\\\\2020-12-03\\\\Petr_Fedorov', [], ['data.csv'])\n",
      "('data\\\\2020-12-03\\\\Vasiliy_Ivanov', [], ['data.csv'])\n",
      "('data\\\\2020-12-03\\\\Vasiliy_Petrov', [], ['data.csv'])\n",
      "('data\\\\2020-12-04', ['Alexey_Smirnov', 'Kirill_Fedorov', 'Petr_Fedorov', 'Petr_Ivanov', 'Petr_Smirnov', 'Rostislav_Fedorov', 'Rostislav_Ivanov', 'Rostislav_Smirnov', 'Vasiliy_Ivanov'], [])\n",
      "('data\\\\2020-12-04\\\\Alexey_Smirnov', [], ['data.csv'])\n",
      "('data\\\\2020-12-04\\\\Kirill_Fedorov', [], ['data.csv'])\n",
      "('data\\\\2020-12-04\\\\Petr_Fedorov', [], ['data.csv'])\n",
      "('data\\\\2020-12-04\\\\Petr_Ivanov', [], ['data.csv'])\n",
      "('data\\\\2020-12-04\\\\Petr_Smirnov', [], ['data.csv'])\n",
      "('data\\\\2020-12-04\\\\Rostislav_Fedorov', [], ['data.csv'])\n",
      "('data\\\\2020-12-04\\\\Rostislav_Ivanov', [], ['data.csv'])\n",
      "('data\\\\2020-12-04\\\\Rostislav_Smirnov', [], ['data.csv'])\n",
      "('data\\\\2020-12-04\\\\Vasiliy_Ivanov', [], ['data.csv'])\n",
      "('data\\\\2020-12-05', ['Alexey_Fedorov', 'Alexey_Petrov', 'Kirill_Smirnov', 'Petr_Ivanov', 'Petr_Smirnov', 'Rostislav_Smirnov'], [])\n",
      "('data\\\\2020-12-05\\\\Alexey_Fedorov', [], ['data.csv'])\n",
      "('data\\\\2020-12-05\\\\Alexey_Petrov', [], ['data.csv'])\n",
      "('data\\\\2020-12-05\\\\Kirill_Smirnov', [], ['data.csv'])\n",
      "('data\\\\2020-12-05\\\\Petr_Ivanov', [], ['data.csv'])\n",
      "('data\\\\2020-12-05\\\\Petr_Smirnov', [], ['data.csv'])\n",
      "('data\\\\2020-12-05\\\\Rostislav_Smirnov', [], ['data.csv'])\n",
      "('data\\\\2020-12-06', ['Vasiliy_Fedorov'], [])\n",
      "('data\\\\2020-12-06\\\\Vasiliy_Fedorov', [], ['data.csv'])\n",
      "('data\\\\2020-12-07', ['Alexey_Fedorov', 'Alexey_Ivanov', 'Alexey_Smirnov', 'Anton_Ivanov', 'Anton_Smirnov', 'Kirill_Fedorov', 'Petr_Fedorov', 'Petr_Smirnov', 'Rostislav_Fedorov', 'Vasiliy_Ivanov'], [])\n",
      "('data\\\\2020-12-07\\\\Alexey_Fedorov', [], ['data.csv'])\n",
      "('data\\\\2020-12-07\\\\Alexey_Ivanov', [], ['data.csv'])\n",
      "('data\\\\2020-12-07\\\\Alexey_Smirnov', [], ['data.csv'])\n",
      "('data\\\\2020-12-07\\\\Anton_Ivanov', [], ['data.csv'])\n",
      "('data\\\\2020-12-07\\\\Anton_Smirnov', [], ['data.csv'])\n",
      "('data\\\\2020-12-07\\\\Kirill_Fedorov', [], ['data.csv'])\n",
      "('data\\\\2020-12-07\\\\Petr_Fedorov', [], ['data.csv'])\n",
      "('data\\\\2020-12-07\\\\Petr_Smirnov', [], ['data.csv'])\n",
      "('data\\\\2020-12-07\\\\Rostislav_Fedorov', [], ['data.csv'])\n",
      "('data\\\\2020-12-07\\\\Vasiliy_Ivanov', [], ['data.csv'])\n",
      "('data\\\\2020-12-08', ['Alexey_Fedorov', 'Anton_Smirnov', 'Kirill_Smirnov', 'Petr_Petrov', 'Rostislav_Petrov'], [])\n",
      "('data\\\\2020-12-08\\\\Alexey_Fedorov', [], ['data.csv'])\n",
      "('data\\\\2020-12-08\\\\Anton_Smirnov', [], ['data.csv'])\n",
      "('data\\\\2020-12-08\\\\Kirill_Smirnov', [], ['data.csv'])\n",
      "('data\\\\2020-12-08\\\\Petr_Petrov', [], ['data.csv'])\n",
      "('data\\\\2020-12-08\\\\Rostislav_Petrov', [], ['data.csv'])\n",
      "('data\\\\2020-12-09', ['Alexey_Smirnov', 'Anton_Ivanov', 'Anton_Petrov', 'Anton_Smirnov', 'Petr_Fedorov', 'Rostislav_Petrov', 'Vasiliy_Ivanov'], [])\n",
      "('data\\\\2020-12-09\\\\Alexey_Smirnov', [], ['data.csv'])\n",
      "('data\\\\2020-12-09\\\\Anton_Ivanov', [], ['data.csv'])\n",
      "('data\\\\2020-12-09\\\\Anton_Petrov', [], ['data.csv'])\n",
      "('data\\\\2020-12-09\\\\Anton_Smirnov', [], ['data.csv'])\n",
      "('data\\\\2020-12-09\\\\Petr_Fedorov', [], ['data.csv'])\n",
      "('data\\\\2020-12-09\\\\Rostislav_Petrov', [], ['data.csv'])\n",
      "('data\\\\2020-12-09\\\\Vasiliy_Ivanov', [], ['data.csv'])\n"
     ]
    }
   ],
   "source": [
    "for i in tree:\n",
    "    print(i)"
   ],
   "metadata": {
    "collapsed": false,
    "ExecuteTime": {
     "end_time": "2025-01-08T18:17:37.062645400Z",
     "start_time": "2025-01-08T18:17:37.051999600Z"
    }
   },
   "id": "545e4623e957d494"
  },
  {
   "cell_type": "code",
   "execution_count": 20,
   "outputs": [],
   "source": [
    "tree = os.walk('data')\n",
    "data_file = []\n",
    "target_file = 'data.csv'\n",
    "\n",
    "for item in tree:\n",
    "    files = item[-1]\n",
    "    if len(files)>0 and target_file in files:\n",
    "        path = os.path.join(item[0], target_file)\n",
    "        data_file.append(path)"
   ],
   "metadata": {
    "collapsed": false,
    "ExecuteTime": {
     "end_time": "2025-01-08T18:22:52.007321800Z",
     "start_time": "2025-01-08T18:22:51.995052600Z"
    }
   },
   "id": "233080ef43e77a7f"
  },
  {
   "cell_type": "code",
   "execution_count": 21,
   "outputs": [
    {
     "data": {
      "text/plain": "['data\\\\2020-12-03\\\\Alexey_Smirnov\\\\data.csv',\n 'data\\\\2020-12-03\\\\Anton_Petrov\\\\data.csv',\n 'data\\\\2020-12-03\\\\Kirill_Petrov\\\\data.csv',\n 'data\\\\2020-12-03\\\\Petr_Fedorov\\\\data.csv',\n 'data\\\\2020-12-03\\\\Vasiliy_Ivanov\\\\data.csv',\n 'data\\\\2020-12-03\\\\Vasiliy_Petrov\\\\data.csv',\n 'data\\\\2020-12-04\\\\Alexey_Smirnov\\\\data.csv',\n 'data\\\\2020-12-04\\\\Kirill_Fedorov\\\\data.csv',\n 'data\\\\2020-12-04\\\\Petr_Fedorov\\\\data.csv',\n 'data\\\\2020-12-04\\\\Petr_Ivanov\\\\data.csv',\n 'data\\\\2020-12-04\\\\Petr_Smirnov\\\\data.csv',\n 'data\\\\2020-12-04\\\\Rostislav_Fedorov\\\\data.csv',\n 'data\\\\2020-12-04\\\\Rostislav_Ivanov\\\\data.csv',\n 'data\\\\2020-12-04\\\\Rostislav_Smirnov\\\\data.csv',\n 'data\\\\2020-12-04\\\\Vasiliy_Ivanov\\\\data.csv',\n 'data\\\\2020-12-05\\\\Alexey_Fedorov\\\\data.csv',\n 'data\\\\2020-12-05\\\\Alexey_Petrov\\\\data.csv',\n 'data\\\\2020-12-05\\\\Kirill_Smirnov\\\\data.csv',\n 'data\\\\2020-12-05\\\\Petr_Ivanov\\\\data.csv',\n 'data\\\\2020-12-05\\\\Petr_Smirnov\\\\data.csv',\n 'data\\\\2020-12-05\\\\Rostislav_Smirnov\\\\data.csv',\n 'data\\\\2020-12-06\\\\Vasiliy_Fedorov\\\\data.csv',\n 'data\\\\2020-12-07\\\\Alexey_Fedorov\\\\data.csv',\n 'data\\\\2020-12-07\\\\Alexey_Ivanov\\\\data.csv',\n 'data\\\\2020-12-07\\\\Alexey_Smirnov\\\\data.csv',\n 'data\\\\2020-12-07\\\\Anton_Ivanov\\\\data.csv',\n 'data\\\\2020-12-07\\\\Anton_Smirnov\\\\data.csv',\n 'data\\\\2020-12-07\\\\Kirill_Fedorov\\\\data.csv',\n 'data\\\\2020-12-07\\\\Petr_Fedorov\\\\data.csv',\n 'data\\\\2020-12-07\\\\Petr_Smirnov\\\\data.csv',\n 'data\\\\2020-12-07\\\\Rostislav_Fedorov\\\\data.csv',\n 'data\\\\2020-12-07\\\\Vasiliy_Ivanov\\\\data.csv',\n 'data\\\\2020-12-08\\\\Alexey_Fedorov\\\\data.csv',\n 'data\\\\2020-12-08\\\\Anton_Smirnov\\\\data.csv',\n 'data\\\\2020-12-08\\\\Kirill_Smirnov\\\\data.csv',\n 'data\\\\2020-12-08\\\\Petr_Petrov\\\\data.csv',\n 'data\\\\2020-12-08\\\\Rostislav_Petrov\\\\data.csv',\n 'data\\\\2020-12-09\\\\Alexey_Smirnov\\\\data.csv',\n 'data\\\\2020-12-09\\\\Anton_Ivanov\\\\data.csv',\n 'data\\\\2020-12-09\\\\Anton_Petrov\\\\data.csv',\n 'data\\\\2020-12-09\\\\Anton_Smirnov\\\\data.csv',\n 'data\\\\2020-12-09\\\\Petr_Fedorov\\\\data.csv',\n 'data\\\\2020-12-09\\\\Rostislav_Petrov\\\\data.csv',\n 'data\\\\2020-12-09\\\\Vasiliy_Ivanov\\\\data.csv']"
     },
     "execution_count": 21,
     "metadata": {},
     "output_type": "execute_result"
    }
   ],
   "source": [
    "data_file"
   ],
   "metadata": {
    "collapsed": false,
    "ExecuteTime": {
     "end_time": "2025-01-08T18:22:55.778402800Z",
     "start_time": "2025-01-08T18:22:55.764276700Z"
    }
   },
   "id": "f903ad2891020572"
  },
  {
   "cell_type": "code",
   "execution_count": 23,
   "outputs": [],
   "source": [
    "data_file_df = []\n",
    "\n",
    "for path in data_file:\n",
    "    df = pd.read_csv(path, index_col=0)\n",
    "    date, name = path.split('\\\\')[1:3]\n",
    "    df['name'] = name\n",
    "    df['date'] = date\n",
    "    data_file_df.append(df)"
   ],
   "metadata": {
    "collapsed": false,
    "ExecuteTime": {
     "end_time": "2025-01-08T18:27:18.129695200Z",
     "start_time": "2025-01-08T18:27:18.085431300Z"
    }
   },
   "id": "404d5e3bc52f489d"
  },
  {
   "cell_type": "code",
   "execution_count": 26,
   "outputs": [
    {
     "data": {
      "text/plain": "[   product_id  quantity            name        date\n 0          47         1  Alexey_Smirnov  2020-12-03\n 1          57         1  Alexey_Smirnov  2020-12-03\n 2          14         2  Alexey_Smirnov  2020-12-03\n 3          52         1  Alexey_Smirnov  2020-12-03\n 4           1         4  Alexey_Smirnov  2020-12-03\n 5          94         4  Alexey_Smirnov  2020-12-03,\n    product_id  quantity          name        date\n 0          56         5  Anton_Petrov  2020-12-03\n 1          27         3  Anton_Petrov  2020-12-03\n 2          82         1  Anton_Petrov  2020-12-03\n 3          61         1  Anton_Petrov  2020-12-03\n 4          88         5  Anton_Petrov  2020-12-03,\n    product_id  quantity           name        date\n 0          77         1  Kirill_Petrov  2020-12-03\n 1          10         3  Kirill_Petrov  2020-12-03\n 2          83         2  Kirill_Petrov  2020-12-03\n 3          78         3  Kirill_Petrov  2020-12-03,\n    product_id  quantity          name        date\n 0          94         4  Petr_Fedorov  2020-12-03\n 1           7         2  Petr_Fedorov  2020-12-03\n 2          16         4  Petr_Fedorov  2020-12-03,\n    product_id  quantity            name        date\n 0           0         4  Vasiliy_Ivanov  2020-12-03\n 1           4         2  Vasiliy_Ivanov  2020-12-03,\n    product_id  quantity            name        date\n 0          78         4  Vasiliy_Petrov  2020-12-03\n 1          27         3  Vasiliy_Petrov  2020-12-03,\n    product_id  quantity            name        date\n 0          64         2  Alexey_Smirnov  2020-12-04\n 1          24         5  Alexey_Smirnov  2020-12-04\n 2          23         3  Alexey_Smirnov  2020-12-04\n 3           9         4  Alexey_Smirnov  2020-12-04\n 4          82         5  Alexey_Smirnov  2020-12-04,\n    product_id  quantity            name        date\n 0          80         1  Kirill_Fedorov  2020-12-04\n 1           3         4  Kirill_Fedorov  2020-12-04\n 2          89         5  Kirill_Fedorov  2020-12-04\n 3          75         2  Kirill_Fedorov  2020-12-04\n 4          41         5  Kirill_Fedorov  2020-12-04\n 5          32         4  Kirill_Fedorov  2020-12-04,\n    product_id  quantity          name        date\n 0          19         2  Petr_Fedorov  2020-12-04\n 1          42         3  Petr_Fedorov  2020-12-04\n 2          34         3  Petr_Fedorov  2020-12-04\n 3          87         3  Petr_Fedorov  2020-12-04\n 4          35         1  Petr_Fedorov  2020-12-04\n 5          47         1  Petr_Fedorov  2020-12-04,\n    product_id  quantity         name        date\n 0          20         4  Petr_Ivanov  2020-12-04\n 1          36         1  Petr_Ivanov  2020-12-04\n 2          74         5  Petr_Ivanov  2020-12-04,\n    product_id  quantity          name        date\n 0          88         3  Petr_Smirnov  2020-12-04\n 1          96         5  Petr_Smirnov  2020-12-04\n 2           3         4  Petr_Smirnov  2020-12-04\n 3          12         3  Petr_Smirnov  2020-12-04\n 4          92         5  Petr_Smirnov  2020-12-04\n 5          44         4  Petr_Smirnov  2020-12-04,\n    product_id  quantity               name        date\n 0          44         1  Rostislav_Fedorov  2020-12-04\n 1          67         4  Rostislav_Fedorov  2020-12-04,\n    product_id  quantity              name        date\n 0          74         5  Rostislav_Ivanov  2020-12-04\n 1          71         2  Rostislav_Ivanov  2020-12-04\n 2          33         2  Rostislav_Ivanov  2020-12-04,\n    product_id  quantity               name        date\n 0          99         4  Rostislav_Smirnov  2020-12-04\n 1           7         2  Rostislav_Smirnov  2020-12-04,\n    product_id  quantity            name        date\n 0          94         1  Vasiliy_Ivanov  2020-12-04\n 1          14         5  Vasiliy_Ivanov  2020-12-04,\n    product_id  quantity            name        date\n 0          13         2  Alexey_Fedorov  2020-12-05\n 1          50         2  Alexey_Fedorov  2020-12-05,\n    product_id  quantity           name        date\n 0          41         4  Alexey_Petrov  2020-12-05\n 1          45         2  Alexey_Petrov  2020-12-05\n 2          33         1  Alexey_Petrov  2020-12-05,\n    product_id  quantity            name        date\n 0          66         2  Kirill_Smirnov  2020-12-05\n 1          15         1  Kirill_Smirnov  2020-12-05\n 2          32         1  Kirill_Smirnov  2020-12-05\n 3          17         4  Kirill_Smirnov  2020-12-05\n 4          24         3  Kirill_Smirnov  2020-12-05\n 5          67         2  Kirill_Smirnov  2020-12-05,\n    product_id  quantity         name        date\n 0          27         4  Petr_Ivanov  2020-12-05\n 1          89         1  Petr_Ivanov  2020-12-05\n 2          33         2  Petr_Ivanov  2020-12-05\n 3           8         3  Petr_Ivanov  2020-12-05\n 4          16         1  Petr_Ivanov  2020-12-05,\n    product_id  quantity          name        date\n 0          55         3  Petr_Smirnov  2020-12-05\n 1          49         3  Petr_Smirnov  2020-12-05\n 2          22         5  Petr_Smirnov  2020-12-05\n 3          83         4  Petr_Smirnov  2020-12-05,\n    product_id  quantity               name        date\n 0          66         2  Rostislav_Smirnov  2020-12-05\n 1          41         5  Rostislav_Smirnov  2020-12-05\n 2          56         4  Rostislav_Smirnov  2020-12-05,\n    product_id  quantity             name        date\n 0          56         4  Vasiliy_Fedorov  2020-12-06\n 1          97         3  Vasiliy_Fedorov  2020-12-06\n 2          79         3  Vasiliy_Fedorov  2020-12-06\n 3          29         5  Vasiliy_Fedorov  2020-12-06,\n    product_id  quantity            name        date\n 0          54         1  Alexey_Fedorov  2020-12-07\n 1          77         3  Alexey_Fedorov  2020-12-07\n 2          99         4  Alexey_Fedorov  2020-12-07\n 3          15         1  Alexey_Fedorov  2020-12-07,\n    product_id  quantity           name        date\n 0          13         4  Alexey_Ivanov  2020-12-07\n 1          27         5  Alexey_Ivanov  2020-12-07\n 2          34         2  Alexey_Ivanov  2020-12-07\n 3          40         2  Alexey_Ivanov  2020-12-07\n 4          77         1  Alexey_Ivanov  2020-12-07\n 5          90         3  Alexey_Ivanov  2020-12-07,\n    product_id  quantity            name        date\n 0          20         3  Alexey_Smirnov  2020-12-07\n 1           7         1  Alexey_Smirnov  2020-12-07,\n    product_id  quantity          name        date\n 0          15         4  Anton_Ivanov  2020-12-07,\n    product_id  quantity           name        date\n 0           8         5  Anton_Smirnov  2020-12-07\n 1          23         2  Anton_Smirnov  2020-12-07\n 2          45         5  Anton_Smirnov  2020-12-07\n 3          92         3  Anton_Smirnov  2020-12-07,\n    product_id  quantity            name        date\n 0          74         3  Kirill_Fedorov  2020-12-07\n 1           6         4  Kirill_Fedorov  2020-12-07,\n    product_id  quantity          name        date\n 0          18         4  Petr_Fedorov  2020-12-07\n 1          94         4  Petr_Fedorov  2020-12-07,\n    product_id  quantity          name        date\n 0          50         5  Petr_Smirnov  2020-12-07\n 1          16         5  Petr_Smirnov  2020-12-07\n 2          34         2  Petr_Smirnov  2020-12-07\n 3          21         1  Petr_Smirnov  2020-12-07,\n    product_id  quantity               name        date\n 0          66         5  Rostislav_Fedorov  2020-12-07\n 1          12         2  Rostislav_Fedorov  2020-12-07\n 2          61         4  Rostislav_Fedorov  2020-12-07,\n    product_id  quantity            name        date\n 0          95         2  Vasiliy_Ivanov  2020-12-07\n 1          83         3  Vasiliy_Ivanov  2020-12-07\n 2          64         1  Vasiliy_Ivanov  2020-12-07,\n    product_id  quantity            name        date\n 0          73         5  Alexey_Fedorov  2020-12-08\n 1          34         1  Alexey_Fedorov  2020-12-08\n 2          71         1  Alexey_Fedorov  2020-12-08\n 3          18         2  Alexey_Fedorov  2020-12-08\n 4          67         2  Alexey_Fedorov  2020-12-08,\n    product_id  quantity           name        date\n 0           6         5  Anton_Smirnov  2020-12-08\n 1          34         5  Anton_Smirnov  2020-12-08\n 2          18         1  Anton_Smirnov  2020-12-08\n 3          28         4  Anton_Smirnov  2020-12-08\n 4          40         1  Anton_Smirnov  2020-12-08\n 5          17         3  Anton_Smirnov  2020-12-08,\n    product_id  quantity            name        date\n 0          35         4  Kirill_Smirnov  2020-12-08,\n    product_id  quantity         name        date\n 0          89         4  Petr_Petrov  2020-12-08\n 1           6         1  Petr_Petrov  2020-12-08\n 2          13         1  Petr_Petrov  2020-12-08\n 3          64         3  Petr_Petrov  2020-12-08\n 4          84         5  Petr_Petrov  2020-12-08,\n    product_id  quantity              name        date\n 0          36         4  Rostislav_Petrov  2020-12-08\n 1          24         2  Rostislav_Petrov  2020-12-08\n 2          23         1  Rostislav_Petrov  2020-12-08\n 3          27         5  Rostislav_Petrov  2020-12-08\n 4          32         3  Rostislav_Petrov  2020-12-08\n 5          50         5  Rostislav_Petrov  2020-12-08,\n    product_id  quantity            name        date\n 0          56         5  Alexey_Smirnov  2020-12-09\n 1          55         1  Alexey_Smirnov  2020-12-09\n 2          55         5  Alexey_Smirnov  2020-12-09\n 3           4         4  Alexey_Smirnov  2020-12-09\n 4          95         1  Alexey_Smirnov  2020-12-09,\n    product_id  quantity          name        date\n 0          92         4  Anton_Ivanov  2020-12-09\n 1          88         3  Anton_Ivanov  2020-12-09\n 2          24         5  Anton_Ivanov  2020-12-09\n 3          36         1  Anton_Ivanov  2020-12-09\n 4          15         3  Anton_Ivanov  2020-12-09\n 5          90         3  Anton_Ivanov  2020-12-09,\n    product_id  quantity          name        date\n 0          35         3  Anton_Petrov  2020-12-09,\n    product_id  quantity           name        date\n 0          79         3  Anton_Smirnov  2020-12-09\n 1          33         1  Anton_Smirnov  2020-12-09\n 2          81         3  Anton_Smirnov  2020-12-09\n 3          70         4  Anton_Smirnov  2020-12-09,\n    product_id  quantity          name        date\n 0          79         3  Petr_Fedorov  2020-12-09,\n    product_id  quantity              name        date\n 0          64         2  Rostislav_Petrov  2020-12-09\n 1          66         4  Rostislav_Petrov  2020-12-09\n 2          39         2  Rostislav_Petrov  2020-12-09,\n    product_id  quantity            name        date\n 0          82         4  Vasiliy_Ivanov  2020-12-09\n 1          74         2  Vasiliy_Ivanov  2020-12-09\n 2          54         3  Vasiliy_Ivanov  2020-12-09]"
     },
     "execution_count": 26,
     "metadata": {},
     "output_type": "execute_result"
    }
   ],
   "source": [
    "data_file_df"
   ],
   "metadata": {
    "collapsed": false,
    "ExecuteTime": {
     "end_time": "2025-01-08T18:28:04.468598500Z",
     "start_time": "2025-01-08T18:28:04.438105700Z"
    }
   },
   "id": "c4dcd48f78ed3ae0"
  },
  {
   "cell_type": "code",
   "execution_count": 27,
   "outputs": [],
   "source": [
    "data = pd.concat(data_file_df, ignore_index =True)"
   ],
   "metadata": {
    "collapsed": false,
    "ExecuteTime": {
     "end_time": "2025-01-08T18:29:10.963438700Z",
     "start_time": "2025-01-08T18:29:10.948679100Z"
    }
   },
   "id": "9b326f4965bf771c"
  },
  {
   "cell_type": "code",
   "execution_count": 31,
   "outputs": [
    {
     "data": {
      "text/plain": "(161, 4)"
     },
     "execution_count": 31,
     "metadata": {},
     "output_type": "execute_result"
    }
   ],
   "source": [
    "data.shape"
   ],
   "metadata": {
    "collapsed": false,
    "ExecuteTime": {
     "end_time": "2025-01-08T18:29:37.953757200Z",
     "start_time": "2025-01-08T18:29:37.942739500Z"
    }
   },
   "id": "83dfb4e0f58118bf"
  },
  {
   "cell_type": "code",
   "execution_count": 32,
   "outputs": [
    {
     "data": {
      "text/plain": "    product_id  quantity            name        date\n0           47         1  Alexey_Smirnov  2020-12-03\n1           57         1  Alexey_Smirnov  2020-12-03\n2           14         2  Alexey_Smirnov  2020-12-03\n3           52         1  Alexey_Smirnov  2020-12-03\n4            1         4  Alexey_Smirnov  2020-12-03\n5           94         4  Alexey_Smirnov  2020-12-03\n6           56         5    Anton_Petrov  2020-12-03\n7           27         3    Anton_Petrov  2020-12-03\n8           82         1    Anton_Petrov  2020-12-03\n9           61         1    Anton_Petrov  2020-12-03\n10          88         5    Anton_Petrov  2020-12-03\n11          77         1   Kirill_Petrov  2020-12-03\n12          10         3   Kirill_Petrov  2020-12-03\n13          83         2   Kirill_Petrov  2020-12-03\n14          78         3   Kirill_Petrov  2020-12-03\n15          94         4    Petr_Fedorov  2020-12-03\n16           7         2    Petr_Fedorov  2020-12-03\n17          16         4    Petr_Fedorov  2020-12-03\n18           0         4  Vasiliy_Ivanov  2020-12-03\n19           4         2  Vasiliy_Ivanov  2020-12-03",
      "text/html": "<div>\n<style scoped>\n    .dataframe tbody tr th:only-of-type {\n        vertical-align: middle;\n    }\n\n    .dataframe tbody tr th {\n        vertical-align: top;\n    }\n\n    .dataframe thead th {\n        text-align: right;\n    }\n</style>\n<table border=\"1\" class=\"dataframe\">\n  <thead>\n    <tr style=\"text-align: right;\">\n      <th></th>\n      <th>product_id</th>\n      <th>quantity</th>\n      <th>name</th>\n      <th>date</th>\n    </tr>\n  </thead>\n  <tbody>\n    <tr>\n      <th>0</th>\n      <td>47</td>\n      <td>1</td>\n      <td>Alexey_Smirnov</td>\n      <td>2020-12-03</td>\n    </tr>\n    <tr>\n      <th>1</th>\n      <td>57</td>\n      <td>1</td>\n      <td>Alexey_Smirnov</td>\n      <td>2020-12-03</td>\n    </tr>\n    <tr>\n      <th>2</th>\n      <td>14</td>\n      <td>2</td>\n      <td>Alexey_Smirnov</td>\n      <td>2020-12-03</td>\n    </tr>\n    <tr>\n      <th>3</th>\n      <td>52</td>\n      <td>1</td>\n      <td>Alexey_Smirnov</td>\n      <td>2020-12-03</td>\n    </tr>\n    <tr>\n      <th>4</th>\n      <td>1</td>\n      <td>4</td>\n      <td>Alexey_Smirnov</td>\n      <td>2020-12-03</td>\n    </tr>\n    <tr>\n      <th>5</th>\n      <td>94</td>\n      <td>4</td>\n      <td>Alexey_Smirnov</td>\n      <td>2020-12-03</td>\n    </tr>\n    <tr>\n      <th>6</th>\n      <td>56</td>\n      <td>5</td>\n      <td>Anton_Petrov</td>\n      <td>2020-12-03</td>\n    </tr>\n    <tr>\n      <th>7</th>\n      <td>27</td>\n      <td>3</td>\n      <td>Anton_Petrov</td>\n      <td>2020-12-03</td>\n    </tr>\n    <tr>\n      <th>8</th>\n      <td>82</td>\n      <td>1</td>\n      <td>Anton_Petrov</td>\n      <td>2020-12-03</td>\n    </tr>\n    <tr>\n      <th>9</th>\n      <td>61</td>\n      <td>1</td>\n      <td>Anton_Petrov</td>\n      <td>2020-12-03</td>\n    </tr>\n    <tr>\n      <th>10</th>\n      <td>88</td>\n      <td>5</td>\n      <td>Anton_Petrov</td>\n      <td>2020-12-03</td>\n    </tr>\n    <tr>\n      <th>11</th>\n      <td>77</td>\n      <td>1</td>\n      <td>Kirill_Petrov</td>\n      <td>2020-12-03</td>\n    </tr>\n    <tr>\n      <th>12</th>\n      <td>10</td>\n      <td>3</td>\n      <td>Kirill_Petrov</td>\n      <td>2020-12-03</td>\n    </tr>\n    <tr>\n      <th>13</th>\n      <td>83</td>\n      <td>2</td>\n      <td>Kirill_Petrov</td>\n      <td>2020-12-03</td>\n    </tr>\n    <tr>\n      <th>14</th>\n      <td>78</td>\n      <td>3</td>\n      <td>Kirill_Petrov</td>\n      <td>2020-12-03</td>\n    </tr>\n    <tr>\n      <th>15</th>\n      <td>94</td>\n      <td>4</td>\n      <td>Petr_Fedorov</td>\n      <td>2020-12-03</td>\n    </tr>\n    <tr>\n      <th>16</th>\n      <td>7</td>\n      <td>2</td>\n      <td>Petr_Fedorov</td>\n      <td>2020-12-03</td>\n    </tr>\n    <tr>\n      <th>17</th>\n      <td>16</td>\n      <td>4</td>\n      <td>Petr_Fedorov</td>\n      <td>2020-12-03</td>\n    </tr>\n    <tr>\n      <th>18</th>\n      <td>0</td>\n      <td>4</td>\n      <td>Vasiliy_Ivanov</td>\n      <td>2020-12-03</td>\n    </tr>\n    <tr>\n      <th>19</th>\n      <td>4</td>\n      <td>2</td>\n      <td>Vasiliy_Ivanov</td>\n      <td>2020-12-03</td>\n    </tr>\n  </tbody>\n</table>\n</div>"
     },
     "execution_count": 32,
     "metadata": {},
     "output_type": "execute_result"
    }
   ],
   "source": [
    "data.head(20)"
   ],
   "metadata": {
    "collapsed": false,
    "ExecuteTime": {
     "end_time": "2025-01-08T18:34:04.959325Z",
     "start_time": "2025-01-08T18:34:04.950133900Z"
    }
   },
   "id": "9e96257cd2a5195b"
  },
  {
   "cell_type": "code",
   "execution_count": 42,
   "outputs": [],
   "source": [
    "data_quan = data.groupby('name', as_index=False).quantity.sum().sort_values('quantity',ascending=False)"
   ],
   "metadata": {
    "collapsed": false,
    "ExecuteTime": {
     "end_time": "2025-01-08T18:38:19.954600600Z",
     "start_time": "2025-01-08T18:38:19.920716300Z"
    }
   },
   "id": "4a9f034c89dbb638"
  },
  {
   "cell_type": "code",
   "execution_count": 43,
   "outputs": [
    {
     "data": {
      "text/plain": "                 name  quantity\n3      Alexey_Smirnov        52\n13       Petr_Smirnov        52\n6       Anton_Smirnov        45\n10       Petr_Fedorov        34\n7      Kirill_Fedorov        28\n16   Rostislav_Petrov        28\n19     Vasiliy_Ivanov        27\n0      Alexey_Fedorov        24\n4        Anton_Ivanov        23\n11        Petr_Ivanov        21\n5        Anton_Petrov        18\n9      Kirill_Smirnov        17\n1       Alexey_Ivanov        17\n17  Rostislav_Smirnov        17\n14  Rostislav_Fedorov        16\n18    Vasiliy_Fedorov        15\n12        Petr_Petrov        14\n15   Rostislav_Ivanov         9\n8       Kirill_Petrov         9\n2       Alexey_Petrov         7\n20     Vasiliy_Petrov         7",
      "text/html": "<div>\n<style scoped>\n    .dataframe tbody tr th:only-of-type {\n        vertical-align: middle;\n    }\n\n    .dataframe tbody tr th {\n        vertical-align: top;\n    }\n\n    .dataframe thead th {\n        text-align: right;\n    }\n</style>\n<table border=\"1\" class=\"dataframe\">\n  <thead>\n    <tr style=\"text-align: right;\">\n      <th></th>\n      <th>name</th>\n      <th>quantity</th>\n    </tr>\n  </thead>\n  <tbody>\n    <tr>\n      <th>3</th>\n      <td>Alexey_Smirnov</td>\n      <td>52</td>\n    </tr>\n    <tr>\n      <th>13</th>\n      <td>Petr_Smirnov</td>\n      <td>52</td>\n    </tr>\n    <tr>\n      <th>6</th>\n      <td>Anton_Smirnov</td>\n      <td>45</td>\n    </tr>\n    <tr>\n      <th>10</th>\n      <td>Petr_Fedorov</td>\n      <td>34</td>\n    </tr>\n    <tr>\n      <th>7</th>\n      <td>Kirill_Fedorov</td>\n      <td>28</td>\n    </tr>\n    <tr>\n      <th>16</th>\n      <td>Rostislav_Petrov</td>\n      <td>28</td>\n    </tr>\n    <tr>\n      <th>19</th>\n      <td>Vasiliy_Ivanov</td>\n      <td>27</td>\n    </tr>\n    <tr>\n      <th>0</th>\n      <td>Alexey_Fedorov</td>\n      <td>24</td>\n    </tr>\n    <tr>\n      <th>4</th>\n      <td>Anton_Ivanov</td>\n      <td>23</td>\n    </tr>\n    <tr>\n      <th>11</th>\n      <td>Petr_Ivanov</td>\n      <td>21</td>\n    </tr>\n    <tr>\n      <th>5</th>\n      <td>Anton_Petrov</td>\n      <td>18</td>\n    </tr>\n    <tr>\n      <th>9</th>\n      <td>Kirill_Smirnov</td>\n      <td>17</td>\n    </tr>\n    <tr>\n      <th>1</th>\n      <td>Alexey_Ivanov</td>\n      <td>17</td>\n    </tr>\n    <tr>\n      <th>17</th>\n      <td>Rostislav_Smirnov</td>\n      <td>17</td>\n    </tr>\n    <tr>\n      <th>14</th>\n      <td>Rostislav_Fedorov</td>\n      <td>16</td>\n    </tr>\n    <tr>\n      <th>18</th>\n      <td>Vasiliy_Fedorov</td>\n      <td>15</td>\n    </tr>\n    <tr>\n      <th>12</th>\n      <td>Petr_Petrov</td>\n      <td>14</td>\n    </tr>\n    <tr>\n      <th>15</th>\n      <td>Rostislav_Ivanov</td>\n      <td>9</td>\n    </tr>\n    <tr>\n      <th>8</th>\n      <td>Kirill_Petrov</td>\n      <td>9</td>\n    </tr>\n    <tr>\n      <th>2</th>\n      <td>Alexey_Petrov</td>\n      <td>7</td>\n    </tr>\n    <tr>\n      <th>20</th>\n      <td>Vasiliy_Petrov</td>\n      <td>7</td>\n    </tr>\n  </tbody>\n</table>\n</div>"
     },
     "execution_count": 43,
     "metadata": {},
     "output_type": "execute_result"
    }
   ],
   "source": [
    "data_quan"
   ],
   "metadata": {
    "collapsed": false,
    "ExecuteTime": {
     "end_time": "2025-01-08T18:38:20.752369300Z",
     "start_time": "2025-01-08T18:38:20.742240700Z"
    }
   },
   "id": "c787d9bef7e9a756"
  },
  {
   "cell_type": "code",
   "execution_count": 63,
   "outputs": [],
   "source": [
    "names = data_quan.loc[data_quan.quantity == data_quan.quantity.max(), 'name']"
   ],
   "metadata": {
    "collapsed": false,
    "ExecuteTime": {
     "end_time": "2025-01-08T18:45:25.967598900Z",
     "start_time": "2025-01-08T18:45:25.956475200Z"
    }
   },
   "id": "320042681c3a86e5"
  },
  {
   "cell_type": "code",
   "execution_count": 64,
   "outputs": [
    {
     "name": "stdout",
     "output_type": "stream",
     "text": [
      "3     Alexey_Smirnov\n",
      "13      Petr_Smirnov\n",
      "Name: name, dtype: object\n"
     ]
    }
   ],
   "source": [
    "print(names)"
   ],
   "metadata": {
    "collapsed": false,
    "ExecuteTime": {
     "end_time": "2025-01-08T18:45:26.607269100Z",
     "start_time": "2025-01-08T18:45:26.603809600Z"
    }
   },
   "id": "f95b4316d581bbde"
  },
  {
   "cell_type": "code",
   "execution_count": 82,
   "outputs": [],
   "source": [
    "top = data.groupby('product_id').quantity.sum().sort_values(ascending=False).reset_index().head(10)"
   ],
   "metadata": {
    "collapsed": false,
    "ExecuteTime": {
     "end_time": "2025-01-08T18:52:11.995912800Z",
     "start_time": "2025-01-08T18:52:11.980924Z"
    }
   },
   "id": "820b75811b87d0df"
  },
  {
   "cell_type": "code",
   "execution_count": 83,
   "outputs": [
    {
     "data": {
      "text/plain": "   product_id  quantity\n0          27        20\n1          56        18\n2          74        15\n3          24        15\n4          41        14\n5          66        13\n6          94        13\n7          34        13\n8          50        12\n9          92        12",
      "text/html": "<div>\n<style scoped>\n    .dataframe tbody tr th:only-of-type {\n        vertical-align: middle;\n    }\n\n    .dataframe tbody tr th {\n        vertical-align: top;\n    }\n\n    .dataframe thead th {\n        text-align: right;\n    }\n</style>\n<table border=\"1\" class=\"dataframe\">\n  <thead>\n    <tr style=\"text-align: right;\">\n      <th></th>\n      <th>product_id</th>\n      <th>quantity</th>\n    </tr>\n  </thead>\n  <tbody>\n    <tr>\n      <th>0</th>\n      <td>27</td>\n      <td>20</td>\n    </tr>\n    <tr>\n      <th>1</th>\n      <td>56</td>\n      <td>18</td>\n    </tr>\n    <tr>\n      <th>2</th>\n      <td>74</td>\n      <td>15</td>\n    </tr>\n    <tr>\n      <th>3</th>\n      <td>24</td>\n      <td>15</td>\n    </tr>\n    <tr>\n      <th>4</th>\n      <td>41</td>\n      <td>14</td>\n    </tr>\n    <tr>\n      <th>5</th>\n      <td>66</td>\n      <td>13</td>\n    </tr>\n    <tr>\n      <th>6</th>\n      <td>94</td>\n      <td>13</td>\n    </tr>\n    <tr>\n      <th>7</th>\n      <td>34</td>\n      <td>13</td>\n    </tr>\n    <tr>\n      <th>8</th>\n      <td>50</td>\n      <td>12</td>\n    </tr>\n    <tr>\n      <th>9</th>\n      <td>92</td>\n      <td>12</td>\n    </tr>\n  </tbody>\n</table>\n</div>"
     },
     "execution_count": 83,
     "metadata": {},
     "output_type": "execute_result"
    }
   ],
   "source": [
    "top"
   ],
   "metadata": {
    "collapsed": false,
    "ExecuteTime": {
     "end_time": "2025-01-08T18:52:13.179978400Z",
     "start_time": "2025-01-08T18:52:13.168502500Z"
    }
   },
   "id": "3992f7af1c12eba9"
  },
  {
   "cell_type": "code",
   "execution_count": 94,
   "outputs": [
    {
     "data": {
      "text/plain": "[Text(0, 0, '15'),\n Text(0, 0, '20'),\n Text(0, 0, '13'),\n Text(0, 0, '14'),\n Text(0, 0, '12'),\n Text(0, 0, '18'),\n Text(0, 0, '13'),\n Text(0, 0, '15'),\n Text(0, 0, '12'),\n Text(0, 0, '13')]"
     },
     "execution_count": 94,
     "metadata": {},
     "output_type": "execute_result"
    },
    {
     "data": {
      "text/plain": "<Figure size 1700x500 with 1 Axes>",
      "image/png": "[encoded data removed]"
     },
     "metadata": {},
     "output_type": "display_data"
    }
   ],
   "source": [
    "fig, ax = plt.subplots(figsize=(17, 5))\n",
    "sns.barplot(data=top.head(10), x='product_id', y='quantity', ax=ax)\n",
    "ax.bar_label(ax.containers[0])"
   ],
   "metadata": {
    "collapsed": false,
    "ExecuteTime": {
     "end_time": "2025-01-08T19:02:53.475142700Z",
     "start_time": "2025-01-08T19:02:53.353061700Z"
    }
   },
   "id": "6a5dc9da4900c4f3"
  },
  {
   "cell_type": "code",
   "execution_count": null,
   "outputs": [],
   "source": [],
   "metadata": {
    "collapsed": false
   },
   "id": "b1817b95dd3af163"
  }
 ],
 "metadata": {
  "kernelspec": {
   "display_name": "Python 3",
   "language": "python",
   "name": "python3"
  },
  "language_info": {
   "codemirror_mode": {
    "name": "ipython",
    "version": 2
   },
   "file_extension": ".py",
   "mimetype": "text/x-python",
   "name": "python",
   "nbconvert_exporter": "python",
   "pygments_lexer": "ipython2",
   "version": "2.7.6"
  }
 },
 "nbformat": 4,
 "nbformat_minor": 5
}
