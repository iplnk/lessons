{
 "metadata": {
  "kernelspec": {
   "name": "python3",
   "language": "python",
   "display_name": "Python 3 (ipykernel)"
  },
  "language_info": {
   "codemirror_mode": {
    "name": "python",
    "version": 3
   },
   "file_extension": ".py",
   "mimetype": "text/x-python",
   "name": "python",
   "nbconvert_exporter": "python",
   "pygments_lexer": "ipython3",
   "version": "3.8"
  }
 },
 "nbformat_minor": 4,
 "nbformat": 4,
 "cells": [
  {
   "cell_type": "code",
   "execution_count": 3,
   "outputs": [],
   "source": [
    "import pandas as pd\n",
    "import seaborn as sns\n",
    "import matplotlib as pls\n",
    "%matplotlib inline"
   ],
   "metadata": {
    "collapsed": false,
    "ExecuteTime": {
     "end_time": "2025-01-08T15:07:36.140035200Z",
     "start_time": "2025-01-08T15:07:36.127885200Z"
    }
   }
  },
  {
   "cell_type": "code",
   "source": [
    "df = pd.read_csv(r'C:\\Users\\Илья\\Desktop\\lesson\\datasets\\3 lesson_3_data_1_.csv', encoding='windows-1251')"
   ],
   "metadata": {
    "trusted": true,
    "ExecuteTime": {
     "end_time": "2025-01-08T15:07:36.452250800Z",
     "start_time": "2025-01-08T15:07:36.333895Z"
    }
   },
   "outputs": [],
   "execution_count": 4
  },
  {
   "cell_type": "code",
   "source": [
    "df.head()"
   ],
   "metadata": {
    "trusted": true,
    "ExecuteTime": {
     "end_time": "2025-01-08T15:07:36.593049200Z",
     "start_time": "2025-01-08T15:07:36.566915400Z"
    }
   },
   "outputs": [
    {
     "data": {
      "text/plain": "   Unnamed: 0                  tk  pl         dia        hs         tc  \\\n0        1242  120071109002055793   1  2007/11/09  0.505729  110000761   \n1        1243  120070601004053633   1  2007/06/01  0.588519  110000761   \n2        1244  120070928004076410   1  2007/09/28  0.785498   28491841   \n3        1245  120070616003074261   1  2007/06/16  0.550961   95931501   \n4        1246  120070519001018477   1  2007/05/19  0.804954   93265591   \n\n        cta  id_art  id_subsubfam   id_subfam  ...   id_famn  id_seccion  \\\n0  11000076   21895  101070640100  1010706401  ...  10107064       10107   \n1  11000076   21816  101070640100  1010706401  ...  10107064       10107   \n2   2849184  562840  101070640100  1010706401  ...  10107064       10107   \n3   9593150   28914  101070640100  1010706401  ...  10107064       10107   \n4   9326559  159867  101070640100  1010706401  ...  10107064       10107   \n\n   id_subagr  id_agr   vta  uni  id_artn                              art_sp  \\\n0        101       1  0.68  1.0    21895  MARAVILLA        500 G Store_Brand   \n1        101       1  0.38  1.0    21816  FIDEO CABELLIN   500 G Store_Brand   \n2        101       1  1.55  2.0   562840        SPAGUETTI Nє 5 500 G Brand_1   \n3        101       1  1.03  2.0    28914       FIDEO FIDEUБ      500 Brand_7   \n4        101       1  1.09  1.0   159867      MACARRONES  GRATINAR 5 Brand_2   \n\n                 fam_sp fam_en  \n0  PASTA ALIMENTICIA SE  pasta  \n1  PASTA ALIMENTICIA SE  pasta  \n2  PASTA ALIMENTICIA SE  pasta  \n3  PASTA ALIMENTICIA SE  pasta  \n4  PASTA ALIMENTICIA SE  pasta  \n\n[5 rows x 21 columns]",
      "text/html": "<div>\n<style scoped>\n    .dataframe tbody tr th:only-of-type {\n        vertical-align: middle;\n    }\n\n    .dataframe tbody tr th {\n        vertical-align: top;\n    }\n\n    .dataframe thead th {\n        text-align: right;\n    }\n</style>\n<table border=\"1\" class=\"dataframe\">\n  <thead>\n    <tr style=\"text-align: right;\">\n      <th></th>\n      <th>Unnamed: 0</th>\n      <th>tk</th>\n      <th>pl</th>\n      <th>dia</th>\n      <th>hs</th>\n      <th>tc</th>\n      <th>cta</th>\n      <th>id_art</th>\n      <th>id_subsubfam</th>\n      <th>id_subfam</th>\n      <th>...</th>\n      <th>id_famn</th>\n      <th>id_seccion</th>\n      <th>id_subagr</th>\n      <th>id_agr</th>\n      <th>vta</th>\n      <th>uni</th>\n      <th>id_artn</th>\n      <th>art_sp</th>\n      <th>fam_sp</th>\n      <th>fam_en</th>\n    </tr>\n  </thead>\n  <tbody>\n    <tr>\n      <th>0</th>\n      <td>1242</td>\n      <td>120071109002055793</td>\n      <td>1</td>\n      <td>2007/11/09</td>\n      <td>0.505729</td>\n      <td>110000761</td>\n      <td>11000076</td>\n      <td>21895</td>\n      <td>101070640100</td>\n      <td>1010706401</td>\n      <td>...</td>\n      <td>10107064</td>\n      <td>10107</td>\n      <td>101</td>\n      <td>1</td>\n      <td>0.68</td>\n      <td>1.0</td>\n      <td>21895</td>\n      <td>MARAVILLA        500 G Store_Brand</td>\n      <td>PASTA ALIMENTICIA SE</td>\n      <td>pasta</td>\n    </tr>\n    <tr>\n      <th>1</th>\n      <td>1243</td>\n      <td>120070601004053633</td>\n      <td>1</td>\n      <td>2007/06/01</td>\n      <td>0.588519</td>\n      <td>110000761</td>\n      <td>11000076</td>\n      <td>21816</td>\n      <td>101070640100</td>\n      <td>1010706401</td>\n      <td>...</td>\n      <td>10107064</td>\n      <td>10107</td>\n      <td>101</td>\n      <td>1</td>\n      <td>0.38</td>\n      <td>1.0</td>\n      <td>21816</td>\n      <td>FIDEO CABELLIN   500 G Store_Brand</td>\n      <td>PASTA ALIMENTICIA SE</td>\n      <td>pasta</td>\n    </tr>\n    <tr>\n      <th>2</th>\n      <td>1244</td>\n      <td>120070928004076410</td>\n      <td>1</td>\n      <td>2007/09/28</td>\n      <td>0.785498</td>\n      <td>28491841</td>\n      <td>2849184</td>\n      <td>562840</td>\n      <td>101070640100</td>\n      <td>1010706401</td>\n      <td>...</td>\n      <td>10107064</td>\n      <td>10107</td>\n      <td>101</td>\n      <td>1</td>\n      <td>1.55</td>\n      <td>2.0</td>\n      <td>562840</td>\n      <td>SPAGUETTI Nє 5 500 G Brand_1</td>\n      <td>PASTA ALIMENTICIA SE</td>\n      <td>pasta</td>\n    </tr>\n    <tr>\n      <th>3</th>\n      <td>1245</td>\n      <td>120070616003074261</td>\n      <td>1</td>\n      <td>2007/06/16</td>\n      <td>0.550961</td>\n      <td>95931501</td>\n      <td>9593150</td>\n      <td>28914</td>\n      <td>101070640100</td>\n      <td>1010706401</td>\n      <td>...</td>\n      <td>10107064</td>\n      <td>10107</td>\n      <td>101</td>\n      <td>1</td>\n      <td>1.03</td>\n      <td>2.0</td>\n      <td>28914</td>\n      <td>FIDEO FIDEUБ      500 Brand_7</td>\n      <td>PASTA ALIMENTICIA SE</td>\n      <td>pasta</td>\n    </tr>\n    <tr>\n      <th>4</th>\n      <td>1246</td>\n      <td>120070519001018477</td>\n      <td>1</td>\n      <td>2007/05/19</td>\n      <td>0.804954</td>\n      <td>93265591</td>\n      <td>9326559</td>\n      <td>159867</td>\n      <td>101070640100</td>\n      <td>1010706401</td>\n      <td>...</td>\n      <td>10107064</td>\n      <td>10107</td>\n      <td>101</td>\n      <td>1</td>\n      <td>1.09</td>\n      <td>1.0</td>\n      <td>159867</td>\n      <td>MACARRONES  GRATINAR 5 Brand_2</td>\n      <td>PASTA ALIMENTICIA SE</td>\n      <td>pasta</td>\n    </tr>\n  </tbody>\n</table>\n<p>5 rows × 21 columns</p>\n</div>"
     },
     "execution_count": 5,
     "metadata": {},
     "output_type": "execute_result"
    }
   ],
   "execution_count": 5
  },
  {
   "cell_type": "code",
   "source": [
    "df.shape"
   ],
   "metadata": {
    "trusted": true,
    "ExecuteTime": {
     "end_time": "2025-01-08T15:07:36.839860300Z",
     "start_time": "2025-01-08T15:07:36.765952100Z"
    }
   },
   "outputs": [
    {
     "data": {
      "text/plain": "(48129, 21)"
     },
     "execution_count": 6,
     "metadata": {},
     "output_type": "execute_result"
    }
   ],
   "execution_count": 6
  },
  {
   "cell_type": "code",
   "source": [
    "df.columns\n"
   ],
   "metadata": {
    "trusted": true,
    "ExecuteTime": {
     "end_time": "2025-01-08T15:07:36.915930600Z",
     "start_time": "2025-01-08T15:07:36.894828400Z"
    }
   },
   "outputs": [
    {
     "data": {
      "text/plain": "Index(['Unnamed: 0', 'tk', 'pl', 'dia', 'hs', 'tc', 'cta', 'id_art',\n       'id_subsubfam', 'id_subfam', 'id_fam', 'id_famn', 'id_seccion',\n       'id_subagr', 'id_agr', 'vta', 'uni', 'id_artn', 'art_sp', 'fam_sp',\n       'fam_en'],\n      dtype='object')"
     },
     "execution_count": 7,
     "metadata": {},
     "output_type": "execute_result"
    }
   ],
   "execution_count": 7
  },
  {
   "cell_type": "code",
   "source": [
    "df.dtypes\n"
   ],
   "metadata": {
    "trusted": true,
    "ExecuteTime": {
     "end_time": "2025-01-08T15:07:37.065806500Z",
     "start_time": "2025-01-08T15:07:37.052265600Z"
    }
   },
   "outputs": [
    {
     "data": {
      "text/plain": "Unnamed: 0        int64\ntk               object\npl                int64\ndia              object\nhs              float64\ntc                int64\ncta               int64\nid_art            int64\nid_subsubfam      int64\nid_subfam         int64\nid_fam            int64\nid_famn           int64\nid_seccion        int64\nid_subagr         int64\nid_agr            int64\nvta             float64\nuni             float64\nid_artn           int64\nart_sp           object\nfam_sp           object\nfam_en           object\ndtype: object"
     },
     "execution_count": 8,
     "metadata": {},
     "output_type": "execute_result"
    }
   ],
   "execution_count": 8
  },
  {
   "cell_type": "code",
   "source": [
    "user_df = df[['tc','art_sp']]"
   ],
   "metadata": {
    "trusted": true,
    "ExecuteTime": {
     "end_time": "2025-01-08T15:07:37.246946100Z",
     "start_time": "2025-01-08T15:07:37.232916200Z"
    }
   },
   "outputs": [],
   "execution_count": 9
  },
  {
   "cell_type": "code",
   "source": [
    "user_df"
   ],
   "metadata": {
    "trusted": true,
    "ExecuteTime": {
     "end_time": "2025-01-08T15:07:37.414590500Z",
     "start_time": "2025-01-08T15:07:37.387704800Z"
    }
   },
   "outputs": [
    {
     "data": {
      "text/plain": "               tc                              art_sp\n0       110000761  MARAVILLA        500 G Store_Brand\n1       110000761  FIDEO CABELLIN   500 G Store_Brand\n2        28491841        SPAGUETTI Nє 5 500 G Brand_1\n3        95931501       FIDEO FIDEUБ      500 Brand_7\n4        93265591      MACARRONES  GRATINAR 5 Brand_2\n...           ...                                 ...\n48124    45518841      FIDEOS 0         500 G Brand_4\n48125   110824211      PLUMAS 3         500 G Brand_4\n48126  1408670389  MACARRONES       500 G Store_Brand\n48127  1408670389  SPAGHETTI        500 G Store_Brand\n48128    48582221  SPAGHETTINI      500 G Store_Brand\n\n[48129 rows x 2 columns]",
      "text/html": "<div>\n<style scoped>\n    .dataframe tbody tr th:only-of-type {\n        vertical-align: middle;\n    }\n\n    .dataframe tbody tr th {\n        vertical-align: top;\n    }\n\n    .dataframe thead th {\n        text-align: right;\n    }\n</style>\n<table border=\"1\" class=\"dataframe\">\n  <thead>\n    <tr style=\"text-align: right;\">\n      <th></th>\n      <th>tc</th>\n      <th>art_sp</th>\n    </tr>\n  </thead>\n  <tbody>\n    <tr>\n      <th>0</th>\n      <td>110000761</td>\n      <td>MARAVILLA        500 G Store_Brand</td>\n    </tr>\n    <tr>\n      <th>1</th>\n      <td>110000761</td>\n      <td>FIDEO CABELLIN   500 G Store_Brand</td>\n    </tr>\n    <tr>\n      <th>2</th>\n      <td>28491841</td>\n      <td>SPAGUETTI Nє 5 500 G Brand_1</td>\n    </tr>\n    <tr>\n      <th>3</th>\n      <td>95931501</td>\n      <td>FIDEO FIDEUБ      500 Brand_7</td>\n    </tr>\n    <tr>\n      <th>4</th>\n      <td>93265591</td>\n      <td>MACARRONES  GRATINAR 5 Brand_2</td>\n    </tr>\n    <tr>\n      <th>...</th>\n      <td>...</td>\n      <td>...</td>\n    </tr>\n    <tr>\n      <th>48124</th>\n      <td>45518841</td>\n      <td>FIDEOS 0         500 G Brand_4</td>\n    </tr>\n    <tr>\n      <th>48125</th>\n      <td>110824211</td>\n      <td>PLUMAS 3         500 G Brand_4</td>\n    </tr>\n    <tr>\n      <th>48126</th>\n      <td>1408670389</td>\n      <td>MACARRONES       500 G Store_Brand</td>\n    </tr>\n    <tr>\n      <th>48127</th>\n      <td>1408670389</td>\n      <td>SPAGHETTI        500 G Store_Brand</td>\n    </tr>\n    <tr>\n      <th>48128</th>\n      <td>48582221</td>\n      <td>SPAGHETTINI      500 G Store_Brand</td>\n    </tr>\n  </tbody>\n</table>\n<p>48129 rows × 2 columns</p>\n</div>"
     },
     "execution_count": 10,
     "metadata": {},
     "output_type": "execute_result"
    }
   ],
   "execution_count": 10
  },
  {
   "cell_type": "code",
   "source": [
    "user_df = user_df.rename(columns={'tc':'user_id', 'art_sp':'brand_info'})"
   ],
   "metadata": {
    "trusted": true,
    "ExecuteTime": {
     "end_time": "2025-01-08T15:07:37.599162300Z",
     "start_time": "2025-01-08T15:07:37.568617Z"
    }
   },
   "outputs": [],
   "execution_count": 11
  },
  {
   "cell_type": "code",
   "source": [
    "user_df"
   ],
   "metadata": {
    "trusted": true,
    "ExecuteTime": {
     "end_time": "2025-01-08T15:07:37.784872200Z",
     "start_time": "2025-01-08T15:07:37.755714500Z"
    }
   },
   "outputs": [
    {
     "data": {
      "text/plain": "          user_id                          brand_info\n0       110000761  MARAVILLA        500 G Store_Brand\n1       110000761  FIDEO CABELLIN   500 G Store_Brand\n2        28491841        SPAGUETTI Nє 5 500 G Brand_1\n3        95931501       FIDEO FIDEUБ      500 Brand_7\n4        93265591      MACARRONES  GRATINAR 5 Brand_2\n...           ...                                 ...\n48124    45518841      FIDEOS 0         500 G Brand_4\n48125   110824211      PLUMAS 3         500 G Brand_4\n48126  1408670389  MACARRONES       500 G Store_Brand\n48127  1408670389  SPAGHETTI        500 G Store_Brand\n48128    48582221  SPAGHETTINI      500 G Store_Brand\n\n[48129 rows x 2 columns]",
      "text/html": "<div>\n<style scoped>\n    .dataframe tbody tr th:only-of-type {\n        vertical-align: middle;\n    }\n\n    .dataframe tbody tr th {\n        vertical-align: top;\n    }\n\n    .dataframe thead th {\n        text-align: right;\n    }\n</style>\n<table border=\"1\" class=\"dataframe\">\n  <thead>\n    <tr style=\"text-align: right;\">\n      <th></th>\n      <th>user_id</th>\n      <th>brand_info</th>\n    </tr>\n  </thead>\n  <tbody>\n    <tr>\n      <th>0</th>\n      <td>110000761</td>\n      <td>MARAVILLA        500 G Store_Brand</td>\n    </tr>\n    <tr>\n      <th>1</th>\n      <td>110000761</td>\n      <td>FIDEO CABELLIN   500 G Store_Brand</td>\n    </tr>\n    <tr>\n      <th>2</th>\n      <td>28491841</td>\n      <td>SPAGUETTI Nє 5 500 G Brand_1</td>\n    </tr>\n    <tr>\n      <th>3</th>\n      <td>95931501</td>\n      <td>FIDEO FIDEUБ      500 Brand_7</td>\n    </tr>\n    <tr>\n      <th>4</th>\n      <td>93265591</td>\n      <td>MACARRONES  GRATINAR 5 Brand_2</td>\n    </tr>\n    <tr>\n      <th>...</th>\n      <td>...</td>\n      <td>...</td>\n    </tr>\n    <tr>\n      <th>48124</th>\n      <td>45518841</td>\n      <td>FIDEOS 0         500 G Brand_4</td>\n    </tr>\n    <tr>\n      <th>48125</th>\n      <td>110824211</td>\n      <td>PLUMAS 3         500 G Brand_4</td>\n    </tr>\n    <tr>\n      <th>48126</th>\n      <td>1408670389</td>\n      <td>MACARRONES       500 G Store_Brand</td>\n    </tr>\n    <tr>\n      <th>48127</th>\n      <td>1408670389</td>\n      <td>SPAGHETTI        500 G Store_Brand</td>\n    </tr>\n    <tr>\n      <th>48128</th>\n      <td>48582221</td>\n      <td>SPAGHETTINI      500 G Store_Brand</td>\n    </tr>\n  </tbody>\n</table>\n<p>48129 rows × 2 columns</p>\n</div>"
     },
     "execution_count": 12,
     "metadata": {},
     "output_type": "execute_result"
    }
   ],
   "execution_count": 12
  },
  {
   "cell_type": "code",
   "source": [
    "user_df['brand']=user_df.brand_info.apply(lambda x: x.split(' ')[-1])"
   ],
   "metadata": {
    "trusted": true,
    "ExecuteTime": {
     "end_time": "2025-01-08T15:07:37.952631800Z",
     "start_time": "2025-01-08T15:07:37.926747200Z"
    }
   },
   "outputs": [],
   "execution_count": 13
  },
  {
   "cell_type": "code",
   "source": [
    "user_df.head()"
   ],
   "metadata": {
    "trusted": true,
    "ExecuteTime": {
     "end_time": "2025-01-08T15:07:38.138662Z",
     "start_time": "2025-01-08T15:07:38.107938300Z"
    }
   },
   "outputs": [
    {
     "data": {
      "text/plain": "     user_id                          brand_info        brand\n0  110000761  MARAVILLA        500 G Store_Brand  Store_Brand\n1  110000761  FIDEO CABELLIN   500 G Store_Brand  Store_Brand\n2   28491841        SPAGUETTI Nє 5 500 G Brand_1      Brand_1\n3   95931501       FIDEO FIDEUБ      500 Brand_7      Brand_7\n4   93265591      MACARRONES  GRATINAR 5 Brand_2      Brand_2",
      "text/html": "<div>\n<style scoped>\n    .dataframe tbody tr th:only-of-type {\n        vertical-align: middle;\n    }\n\n    .dataframe tbody tr th {\n        vertical-align: top;\n    }\n\n    .dataframe thead th {\n        text-align: right;\n    }\n</style>\n<table border=\"1\" class=\"dataframe\">\n  <thead>\n    <tr style=\"text-align: right;\">\n      <th></th>\n      <th>user_id</th>\n      <th>brand_info</th>\n      <th>brand</th>\n    </tr>\n  </thead>\n  <tbody>\n    <tr>\n      <th>0</th>\n      <td>110000761</td>\n      <td>MARAVILLA        500 G Store_Brand</td>\n      <td>Store_Brand</td>\n    </tr>\n    <tr>\n      <th>1</th>\n      <td>110000761</td>\n      <td>FIDEO CABELLIN   500 G Store_Brand</td>\n      <td>Store_Brand</td>\n    </tr>\n    <tr>\n      <th>2</th>\n      <td>28491841</td>\n      <td>SPAGUETTI Nє 5 500 G Brand_1</td>\n      <td>Brand_1</td>\n    </tr>\n    <tr>\n      <th>3</th>\n      <td>95931501</td>\n      <td>FIDEO FIDEUБ      500 Brand_7</td>\n      <td>Brand_7</td>\n    </tr>\n    <tr>\n      <th>4</th>\n      <td>93265591</td>\n      <td>MACARRONES  GRATINAR 5 Brand_2</td>\n      <td>Brand_2</td>\n    </tr>\n  </tbody>\n</table>\n</div>"
     },
     "execution_count": 14,
     "metadata": {},
     "output_type": "execute_result"
    }
   ],
   "execution_count": 14
  },
  {
   "cell_type": "code",
   "source": [
    "user_pur = user_df.groupby('user_id', as_index=False) \\\n",
    "    .agg({'brand':'count'}) \\\n",
    "    .rename(columns={'brand':'purchase'}) \\\n",
    "    .query('purchase >= 5')"
   ],
   "metadata": {
    "trusted": true,
    "ExecuteTime": {
     "end_time": "2025-01-08T15:07:38.315205300Z",
     "start_time": "2025-01-08T15:07:38.302684300Z"
    }
   },
   "outputs": [],
   "execution_count": 15
  },
  {
   "cell_type": "code",
   "source": [
    "user_pur"
   ],
   "metadata": {
    "trusted": true,
    "ExecuteTime": {
     "end_time": "2025-01-08T15:07:38.489194500Z",
     "start_time": "2025-01-08T15:07:38.476137300Z"
    }
   },
   "outputs": [
    {
     "data": {
      "text/plain": "          user_id  purchase\n1            1031         6\n2            4241         5\n11          25971         7\n14          40911        27\n16          45181         5\n...           ...       ...\n11740  1408767189         5\n11750  1408783189        10\n11751  1408783379         6\n11754  1408798879         8\n11757  1408810219         9\n\n[3383 rows x 2 columns]",
      "text/html": "<div>\n<style scoped>\n    .dataframe tbody tr th:only-of-type {\n        vertical-align: middle;\n    }\n\n    .dataframe tbody tr th {\n        vertical-align: top;\n    }\n\n    .dataframe thead th {\n        text-align: right;\n    }\n</style>\n<table border=\"1\" class=\"dataframe\">\n  <thead>\n    <tr style=\"text-align: right;\">\n      <th></th>\n      <th>user_id</th>\n      <th>purchase</th>\n    </tr>\n  </thead>\n  <tbody>\n    <tr>\n      <th>1</th>\n      <td>1031</td>\n      <td>6</td>\n    </tr>\n    <tr>\n      <th>2</th>\n      <td>4241</td>\n      <td>5</td>\n    </tr>\n    <tr>\n      <th>11</th>\n      <td>25971</td>\n      <td>7</td>\n    </tr>\n    <tr>\n      <th>14</th>\n      <td>40911</td>\n      <td>27</td>\n    </tr>\n    <tr>\n      <th>16</th>\n      <td>45181</td>\n      <td>5</td>\n    </tr>\n    <tr>\n      <th>...</th>\n      <td>...</td>\n      <td>...</td>\n    </tr>\n    <tr>\n      <th>11740</th>\n      <td>1408767189</td>\n      <td>5</td>\n    </tr>\n    <tr>\n      <th>11750</th>\n      <td>1408783189</td>\n      <td>10</td>\n    </tr>\n    <tr>\n      <th>11751</th>\n      <td>1408783379</td>\n      <td>6</td>\n    </tr>\n    <tr>\n      <th>11754</th>\n      <td>1408798879</td>\n      <td>8</td>\n    </tr>\n    <tr>\n      <th>11757</th>\n      <td>1408810219</td>\n      <td>9</td>\n    </tr>\n  </tbody>\n</table>\n<p>3383 rows × 2 columns</p>\n</div>"
     },
     "execution_count": 16,
     "metadata": {},
     "output_type": "execute_result"
    }
   ],
   "execution_count": 16
  },
  {
   "cell_type": "code",
   "source": [
    "user_pur.describe()"
   ],
   "metadata": {
    "trusted": true,
    "ExecuteTime": {
     "end_time": "2025-01-08T15:07:38.663957800Z",
     "start_time": "2025-01-08T15:07:38.647836700Z"
    }
   },
   "outputs": [
    {
     "data": {
      "text/plain": "            user_id     purchase\ncount  3.383000e+03  3383.000000\nmean   6.421500e+07     9.320130\nstd    1.504830e+08     5.623993\nmin    1.031000e+03     5.000000\n25%    8.871271e+06     6.000000\n50%    2.842547e+07     7.000000\n75%    8.542964e+07    11.000000\nmax    1.408810e+09    60.000000",
      "text/html": "<div>\n<style scoped>\n    .dataframe tbody tr th:only-of-type {\n        vertical-align: middle;\n    }\n\n    .dataframe tbody tr th {\n        vertical-align: top;\n    }\n\n    .dataframe thead th {\n        text-align: right;\n    }\n</style>\n<table border=\"1\" class=\"dataframe\">\n  <thead>\n    <tr style=\"text-align: right;\">\n      <th></th>\n      <th>user_id</th>\n      <th>purchase</th>\n    </tr>\n  </thead>\n  <tbody>\n    <tr>\n      <th>count</th>\n      <td>3.383000e+03</td>\n      <td>3383.000000</td>\n    </tr>\n    <tr>\n      <th>mean</th>\n      <td>6.421500e+07</td>\n      <td>9.320130</td>\n    </tr>\n    <tr>\n      <th>std</th>\n      <td>1.504830e+08</td>\n      <td>5.623993</td>\n    </tr>\n    <tr>\n      <th>min</th>\n      <td>1.031000e+03</td>\n      <td>5.000000</td>\n    </tr>\n    <tr>\n      <th>25%</th>\n      <td>8.871271e+06</td>\n      <td>6.000000</td>\n    </tr>\n    <tr>\n      <th>50%</th>\n      <td>2.842547e+07</td>\n      <td>7.000000</td>\n    </tr>\n    <tr>\n      <th>75%</th>\n      <td>8.542964e+07</td>\n      <td>11.000000</td>\n    </tr>\n    <tr>\n      <th>max</th>\n      <td>1.408810e+09</td>\n      <td>60.000000</td>\n    </tr>\n  </tbody>\n</table>\n</div>"
     },
     "execution_count": 17,
     "metadata": {},
     "output_type": "execute_result"
    }
   ],
   "execution_count": 17
  },
  {
   "cell_type": "code",
   "source": [
    "user_pur\n"
   ],
   "metadata": {
    "trusted": true,
    "ExecuteTime": {
     "end_time": "2025-01-08T15:07:38.831293800Z",
     "start_time": "2025-01-08T15:07:38.814077Z"
    }
   },
   "outputs": [
    {
     "data": {
      "text/plain": "          user_id  purchase\n1            1031         6\n2            4241         5\n11          25971         7\n14          40911        27\n16          45181         5\n...           ...       ...\n11740  1408767189         5\n11750  1408783189        10\n11751  1408783379         6\n11754  1408798879         8\n11757  1408810219         9\n\n[3383 rows x 2 columns]",
      "text/html": "<div>\n<style scoped>\n    .dataframe tbody tr th:only-of-type {\n        vertical-align: middle;\n    }\n\n    .dataframe tbody tr th {\n        vertical-align: top;\n    }\n\n    .dataframe thead th {\n        text-align: right;\n    }\n</style>\n<table border=\"1\" class=\"dataframe\">\n  <thead>\n    <tr style=\"text-align: right;\">\n      <th></th>\n      <th>user_id</th>\n      <th>purchase</th>\n    </tr>\n  </thead>\n  <tbody>\n    <tr>\n      <th>1</th>\n      <td>1031</td>\n      <td>6</td>\n    </tr>\n    <tr>\n      <th>2</th>\n      <td>4241</td>\n      <td>5</td>\n    </tr>\n    <tr>\n      <th>11</th>\n      <td>25971</td>\n      <td>7</td>\n    </tr>\n    <tr>\n      <th>14</th>\n      <td>40911</td>\n      <td>27</td>\n    </tr>\n    <tr>\n      <th>16</th>\n      <td>45181</td>\n      <td>5</td>\n    </tr>\n    <tr>\n      <th>...</th>\n      <td>...</td>\n      <td>...</td>\n    </tr>\n    <tr>\n      <th>11740</th>\n      <td>1408767189</td>\n      <td>5</td>\n    </tr>\n    <tr>\n      <th>11750</th>\n      <td>1408783189</td>\n      <td>10</td>\n    </tr>\n    <tr>\n      <th>11751</th>\n      <td>1408783379</td>\n      <td>6</td>\n    </tr>\n    <tr>\n      <th>11754</th>\n      <td>1408798879</td>\n      <td>8</td>\n    </tr>\n    <tr>\n      <th>11757</th>\n      <td>1408810219</td>\n      <td>9</td>\n    </tr>\n  </tbody>\n</table>\n<p>3383 rows × 2 columns</p>\n</div>"
     },
     "execution_count": 18,
     "metadata": {},
     "output_type": "execute_result"
    }
   ],
   "execution_count": 18
  },
  {
   "cell_type": "code",
   "source": [
    "lovely_df = user_df.groupby(['user_id','brand'], as_index=False) \\\n",
    "    .agg({'brand_info':'count'}) \\\n",
    "    .sort_values(['user_id','brand_info'], ascending=[False,False]) \\\n",
    "    .groupby('user_id') \\\n",
    "    .head(1) \\\n",
    "    .rename(columns={'brand':'lovely_brand','brand_info':'lovely_brand_purchase'})"
   ],
   "metadata": {
    "trusted": true,
    "ExecuteTime": {
     "end_time": "2025-01-08T15:07:39.001218700Z",
     "start_time": "2025-01-08T15:07:38.978617400Z"
    }
   },
   "outputs": [],
   "execution_count": 19
  },
  {
   "cell_type": "code",
   "source": [
    "lovely_df"
   ],
   "metadata": {
    "trusted": true,
    "ExecuteTime": {
     "end_time": "2025-01-08T15:07:39.156227800Z",
     "start_time": "2025-01-08T15:07:39.133402900Z"
    }
   },
   "outputs": [
    {
     "data": {
      "text/plain": "          user_id lovely_brand  lovely_brand_purchase\n18187  1408849249  Store_Brand                      1\n18186  1408840919  Store_Brand                      1\n18185  1408832719      Brand_4                      3\n18184  1408825059      Brand_1                      1\n18183  1408817589  Store_Brand                      2\n...           ...          ...                    ...\n6           17312      Brand_1                      1\n5           17311      Brand_4                      2\n3            4241      Brand_4                      3\n2            1031  Store_Brand                      5\n0     -1236394515      Brand_4                      1\n\n[11764 rows x 3 columns]",
      "text/html": "<div>\n<style scoped>\n    .dataframe tbody tr th:only-of-type {\n        vertical-align: middle;\n    }\n\n    .dataframe tbody tr th {\n        vertical-align: top;\n    }\n\n    .dataframe thead th {\n        text-align: right;\n    }\n</style>\n<table border=\"1\" class=\"dataframe\">\n  <thead>\n    <tr style=\"text-align: right;\">\n      <th></th>\n      <th>user_id</th>\n      <th>lovely_brand</th>\n      <th>lovely_brand_purchase</th>\n    </tr>\n  </thead>\n  <tbody>\n    <tr>\n      <th>18187</th>\n      <td>1408849249</td>\n      <td>Store_Brand</td>\n      <td>1</td>\n    </tr>\n    <tr>\n      <th>18186</th>\n      <td>1408840919</td>\n      <td>Store_Brand</td>\n      <td>1</td>\n    </tr>\n    <tr>\n      <th>18185</th>\n      <td>1408832719</td>\n      <td>Brand_4</td>\n      <td>3</td>\n    </tr>\n    <tr>\n      <th>18184</th>\n      <td>1408825059</td>\n      <td>Brand_1</td>\n      <td>1</td>\n    </tr>\n    <tr>\n      <th>18183</th>\n      <td>1408817589</td>\n      <td>Store_Brand</td>\n      <td>2</td>\n    </tr>\n    <tr>\n      <th>...</th>\n      <td>...</td>\n      <td>...</td>\n      <td>...</td>\n    </tr>\n    <tr>\n      <th>6</th>\n      <td>17312</td>\n      <td>Brand_1</td>\n      <td>1</td>\n    </tr>\n    <tr>\n      <th>5</th>\n      <td>17311</td>\n      <td>Brand_4</td>\n      <td>2</td>\n    </tr>\n    <tr>\n      <th>3</th>\n      <td>4241</td>\n      <td>Brand_4</td>\n      <td>3</td>\n    </tr>\n    <tr>\n      <th>2</th>\n      <td>1031</td>\n      <td>Store_Brand</td>\n      <td>5</td>\n    </tr>\n    <tr>\n      <th>0</th>\n      <td>-1236394515</td>\n      <td>Brand_4</td>\n      <td>1</td>\n    </tr>\n  </tbody>\n</table>\n<p>11764 rows × 3 columns</p>\n</div>"
     },
     "execution_count": 20,
     "metadata": {},
     "output_type": "execute_result"
    }
   ],
   "execution_count": 20
  },
  {
   "cell_type": "code",
   "source": [
    "user_unique_brands = user_df.groupby('user_id', as_index=False) \\\n",
    "    .agg({'brand':pd.Series.nunique}) \\\n",
    "    .rename(columns={'brand':'brand_unique'})"
   ],
   "metadata": {
    "trusted": true,
    "ExecuteTime": {
     "end_time": "2025-01-08T15:07:39.652929700Z",
     "start_time": "2025-01-08T15:07:39.294860100Z"
    }
   },
   "outputs": [],
   "execution_count": 21
  },
  {
   "cell_type": "code",
   "source": [
    "user_unique_brands"
   ],
   "metadata": {
    "trusted": true,
    "ExecuteTime": {
     "end_time": "2025-01-08T15:07:39.666655800Z",
     "start_time": "2025-01-08T15:07:39.653437900Z"
    }
   },
   "outputs": [
    {
     "data": {
      "text/plain": "          user_id  brand_unique\n0     -1236394515             1\n1            1031             2\n2            4241             2\n3           17311             1\n4           17312             2\n...           ...           ...\n11759  1408817589             2\n11760  1408825059             1\n11761  1408832719             1\n11762  1408840919             1\n11763  1408849249             1\n\n[11764 rows x 2 columns]",
      "text/html": "<div>\n<style scoped>\n    .dataframe tbody tr th:only-of-type {\n        vertical-align: middle;\n    }\n\n    .dataframe tbody tr th {\n        vertical-align: top;\n    }\n\n    .dataframe thead th {\n        text-align: right;\n    }\n</style>\n<table border=\"1\" class=\"dataframe\">\n  <thead>\n    <tr style=\"text-align: right;\">\n      <th></th>\n      <th>user_id</th>\n      <th>brand_unique</th>\n    </tr>\n  </thead>\n  <tbody>\n    <tr>\n      <th>0</th>\n      <td>-1236394515</td>\n      <td>1</td>\n    </tr>\n    <tr>\n      <th>1</th>\n      <td>1031</td>\n      <td>2</td>\n    </tr>\n    <tr>\n      <th>2</th>\n      <td>4241</td>\n      <td>2</td>\n    </tr>\n    <tr>\n      <th>3</th>\n      <td>17311</td>\n      <td>1</td>\n    </tr>\n    <tr>\n      <th>4</th>\n      <td>17312</td>\n      <td>2</td>\n    </tr>\n    <tr>\n      <th>...</th>\n      <td>...</td>\n      <td>...</td>\n    </tr>\n    <tr>\n      <th>11759</th>\n      <td>1408817589</td>\n      <td>2</td>\n    </tr>\n    <tr>\n      <th>11760</th>\n      <td>1408825059</td>\n      <td>1</td>\n    </tr>\n    <tr>\n      <th>11761</th>\n      <td>1408832719</td>\n      <td>1</td>\n    </tr>\n    <tr>\n      <th>11762</th>\n      <td>1408840919</td>\n      <td>1</td>\n    </tr>\n    <tr>\n      <th>11763</th>\n      <td>1408849249</td>\n      <td>1</td>\n    </tr>\n  </tbody>\n</table>\n<p>11764 rows × 2 columns</p>\n</div>"
     },
     "execution_count": 22,
     "metadata": {},
     "output_type": "execute_result"
    }
   ],
   "execution_count": 22
  },
  {
   "cell_type": "code",
   "source": [
    "loyal_df = user_pur.merge(user_unique_brands, on='user_id') \\\n",
    "    .merge(lovely_df, on='user_id')"
   ],
   "metadata": {
    "trusted": true,
    "ExecuteTime": {
     "end_time": "2025-01-08T15:07:39.712543100Z",
     "start_time": "2025-01-08T15:07:39.678312Z"
    }
   },
   "outputs": [],
   "execution_count": 23
  },
  {
   "cell_type": "code",
   "source": [
    "loyal_df.head()"
   ],
   "metadata": {
    "trusted": true,
    "ExecuteTime": {
     "end_time": "2025-01-08T15:07:39.908928900Z",
     "start_time": "2025-01-08T15:07:39.873340600Z"
    }
   },
   "outputs": [
    {
     "data": {
      "text/plain": "   user_id  purchase  brand_unique lovely_brand  lovely_brand_purchase\n0     1031         6             2  Store_Brand                      5\n1     4241         5             2      Brand_4                      3\n2    25971         7             2  Store_Brand                      5\n3    40911        27             5      Brand_4                     19\n4    45181         5             4  Store_Brand                      2",
      "text/html": "<div>\n<style scoped>\n    .dataframe tbody tr th:only-of-type {\n        vertical-align: middle;\n    }\n\n    .dataframe tbody tr th {\n        vertical-align: top;\n    }\n\n    .dataframe thead th {\n        text-align: right;\n    }\n</style>\n<table border=\"1\" class=\"dataframe\">\n  <thead>\n    <tr style=\"text-align: right;\">\n      <th></th>\n      <th>user_id</th>\n      <th>purchase</th>\n      <th>brand_unique</th>\n      <th>lovely_brand</th>\n      <th>lovely_brand_purchase</th>\n    </tr>\n  </thead>\n  <tbody>\n    <tr>\n      <th>0</th>\n      <td>1031</td>\n      <td>6</td>\n      <td>2</td>\n      <td>Store_Brand</td>\n      <td>5</td>\n    </tr>\n    <tr>\n      <th>1</th>\n      <td>4241</td>\n      <td>5</td>\n      <td>2</td>\n      <td>Brand_4</td>\n      <td>3</td>\n    </tr>\n    <tr>\n      <th>2</th>\n      <td>25971</td>\n      <td>7</td>\n      <td>2</td>\n      <td>Store_Brand</td>\n      <td>5</td>\n    </tr>\n    <tr>\n      <th>3</th>\n      <td>40911</td>\n      <td>27</td>\n      <td>5</td>\n      <td>Brand_4</td>\n      <td>19</td>\n    </tr>\n    <tr>\n      <th>4</th>\n      <td>45181</td>\n      <td>5</td>\n      <td>4</td>\n      <td>Store_Brand</td>\n      <td>2</td>\n    </tr>\n  </tbody>\n</table>\n</div>"
     },
     "execution_count": 24,
     "metadata": {},
     "output_type": "execute_result"
    }
   ],
   "execution_count": 24
  },
  {
   "cell_type": "code",
   "source": [
    "loyal_users = loyal_df[loyal_df.brand_unique == 1]"
   ],
   "metadata": {
    "trusted": true,
    "ExecuteTime": {
     "end_time": "2025-01-08T15:07:40.050722200Z",
     "start_time": "2025-01-08T15:07:40.024679Z"
    }
   },
   "outputs": [],
   "execution_count": 25
  },
  {
   "cell_type": "code",
   "source": [
    "loyal_users"
   ],
   "metadata": {
    "trusted": true,
    "ExecuteTime": {
     "end_time": "2025-01-08T15:07:40.235703600Z",
     "start_time": "2025-01-08T15:07:40.207369900Z"
    }
   },
   "outputs": [
    {
     "data": {
      "text/plain": "         user_id  purchase  brand_unique lovely_brand  lovely_brand_purchase\n13         86281        14             1      Brand_4                     14\n18         94961         6             1      Brand_4                      6\n29        132061         9             1      Brand_4                      9\n30        134281         6             1      Brand_4                      6\n35        157311        12             1      Brand_4                     12\n...          ...       ...           ...          ...                    ...\n3372  1010244089         9             1  Store_Brand                      9\n3374  1010247239         5             1      Brand_4                      5\n3376  1010274559         5             1      Brand_4                      5\n3377  1110091379         5             1      Brand_1                      5\n3378  1408767189         5             1      Brand_4                      5\n\n[911 rows x 5 columns]",
      "text/html": "<div>\n<style scoped>\n    .dataframe tbody tr th:only-of-type {\n        vertical-align: middle;\n    }\n\n    .dataframe tbody tr th {\n        vertical-align: top;\n    }\n\n    .dataframe thead th {\n        text-align: right;\n    }\n</style>\n<table border=\"1\" class=\"dataframe\">\n  <thead>\n    <tr style=\"text-align: right;\">\n      <th></th>\n      <th>user_id</th>\n      <th>purchase</th>\n      <th>brand_unique</th>\n      <th>lovely_brand</th>\n      <th>lovely_brand_purchase</th>\n    </tr>\n  </thead>\n  <tbody>\n    <tr>\n      <th>13</th>\n      <td>86281</td>\n      <td>14</td>\n      <td>1</td>\n      <td>Brand_4</td>\n      <td>14</td>\n    </tr>\n    <tr>\n      <th>18</th>\n      <td>94961</td>\n      <td>6</td>\n      <td>1</td>\n      <td>Brand_4</td>\n      <td>6</td>\n    </tr>\n    <tr>\n      <th>29</th>\n      <td>132061</td>\n      <td>9</td>\n      <td>1</td>\n      <td>Brand_4</td>\n      <td>9</td>\n    </tr>\n    <tr>\n      <th>30</th>\n      <td>134281</td>\n      <td>6</td>\n      <td>1</td>\n      <td>Brand_4</td>\n      <td>6</td>\n    </tr>\n    <tr>\n      <th>35</th>\n      <td>157311</td>\n      <td>12</td>\n      <td>1</td>\n      <td>Brand_4</td>\n      <td>12</td>\n    </tr>\n    <tr>\n      <th>...</th>\n      <td>...</td>\n      <td>...</td>\n      <td>...</td>\n      <td>...</td>\n      <td>...</td>\n    </tr>\n    <tr>\n      <th>3372</th>\n      <td>1010244089</td>\n      <td>9</td>\n      <td>1</td>\n      <td>Store_Brand</td>\n      <td>9</td>\n    </tr>\n    <tr>\n      <th>3374</th>\n      <td>1010247239</td>\n      <td>5</td>\n      <td>1</td>\n      <td>Brand_4</td>\n      <td>5</td>\n    </tr>\n    <tr>\n      <th>3376</th>\n      <td>1010274559</td>\n      <td>5</td>\n      <td>1</td>\n      <td>Brand_4</td>\n      <td>5</td>\n    </tr>\n    <tr>\n      <th>3377</th>\n      <td>1110091379</td>\n      <td>5</td>\n      <td>1</td>\n      <td>Brand_1</td>\n      <td>5</td>\n    </tr>\n    <tr>\n      <th>3378</th>\n      <td>1408767189</td>\n      <td>5</td>\n      <td>1</td>\n      <td>Brand_4</td>\n      <td>5</td>\n    </tr>\n  </tbody>\n</table>\n<p>911 rows × 5 columns</p>\n</div>"
     },
     "execution_count": 26,
     "metadata": {},
     "output_type": "execute_result"
    }
   ],
   "execution_count": 26
  },
  {
   "cell_type": "code",
   "source": [
    "loyal_df['loyal_score'] = loyal_df['lovely_brand_purchase']/loyal_df['purchase']"
   ],
   "metadata": {
    "trusted": true,
    "ExecuteTime": {
     "end_time": "2025-01-08T15:07:40.414364600Z",
     "start_time": "2025-01-08T15:07:40.400352800Z"
    }
   },
   "outputs": [],
   "execution_count": 27
  },
  {
   "cell_type": "code",
   "source": [
    "loyal_df"
   ],
   "metadata": {
    "trusted": true,
    "ExecuteTime": {
     "end_time": "2025-01-08T15:07:40.568830200Z",
     "start_time": "2025-01-08T15:07:40.555334800Z"
    }
   },
   "outputs": [
    {
     "data": {
      "text/plain": "         user_id  purchase  brand_unique lovely_brand  lovely_brand_purchase  \\\n0           1031         6             2  Store_Brand                      5   \n1           4241         5             2      Brand_4                      3   \n2          25971         7             2  Store_Brand                      5   \n3          40911        27             5      Brand_4                     19   \n4          45181         5             4  Store_Brand                      2   \n...          ...       ...           ...          ...                    ...   \n3378  1408767189         5             1      Brand_4                      5   \n3379  1408783189        10             2  Store_Brand                      8   \n3380  1408783379         6             2      Brand_1                      4   \n3381  1408798879         8             3  Store_Brand                      4   \n3382  1408810219         9             2      Brand_2                      6   \n\n      loyal_score  \n0        0.833333  \n1        0.600000  \n2        0.714286  \n3        0.703704  \n4        0.400000  \n...           ...  \n3378     1.000000  \n3379     0.800000  \n3380     0.666667  \n3381     0.500000  \n3382     0.666667  \n\n[3383 rows x 6 columns]",
      "text/html": "<div>\n<style scoped>\n    .dataframe tbody tr th:only-of-type {\n        vertical-align: middle;\n    }\n\n    .dataframe tbody tr th {\n        vertical-align: top;\n    }\n\n    .dataframe thead th {\n        text-align: right;\n    }\n</style>\n<table border=\"1\" class=\"dataframe\">\n  <thead>\n    <tr style=\"text-align: right;\">\n      <th></th>\n      <th>user_id</th>\n      <th>purchase</th>\n      <th>brand_unique</th>\n      <th>lovely_brand</th>\n      <th>lovely_brand_purchase</th>\n      <th>loyal_score</th>\n    </tr>\n  </thead>\n  <tbody>\n    <tr>\n      <th>0</th>\n      <td>1031</td>\n      <td>6</td>\n      <td>2</td>\n      <td>Store_Brand</td>\n      <td>5</td>\n      <td>0.833333</td>\n    </tr>\n    <tr>\n      <th>1</th>\n      <td>4241</td>\n      <td>5</td>\n      <td>2</td>\n      <td>Brand_4</td>\n      <td>3</td>\n      <td>0.600000</td>\n    </tr>\n    <tr>\n      <th>2</th>\n      <td>25971</td>\n      <td>7</td>\n      <td>2</td>\n      <td>Store_Brand</td>\n      <td>5</td>\n      <td>0.714286</td>\n    </tr>\n    <tr>\n      <th>3</th>\n      <td>40911</td>\n      <td>27</td>\n      <td>5</td>\n      <td>Brand_4</td>\n      <td>19</td>\n      <td>0.703704</td>\n    </tr>\n    <tr>\n      <th>4</th>\n      <td>45181</td>\n      <td>5</td>\n      <td>4</td>\n      <td>Store_Brand</td>\n      <td>2</td>\n      <td>0.400000</td>\n    </tr>\n    <tr>\n      <th>...</th>\n      <td>...</td>\n      <td>...</td>\n      <td>...</td>\n      <td>...</td>\n      <td>...</td>\n      <td>...</td>\n    </tr>\n    <tr>\n      <th>3378</th>\n      <td>1408767189</td>\n      <td>5</td>\n      <td>1</td>\n      <td>Brand_4</td>\n      <td>5</td>\n      <td>1.000000</td>\n    </tr>\n    <tr>\n      <th>3379</th>\n      <td>1408783189</td>\n      <td>10</td>\n      <td>2</td>\n      <td>Store_Brand</td>\n      <td>8</td>\n      <td>0.800000</td>\n    </tr>\n    <tr>\n      <th>3380</th>\n      <td>1408783379</td>\n      <td>6</td>\n      <td>2</td>\n      <td>Brand_1</td>\n      <td>4</td>\n      <td>0.666667</td>\n    </tr>\n    <tr>\n      <th>3381</th>\n      <td>1408798879</td>\n      <td>8</td>\n      <td>3</td>\n      <td>Store_Brand</td>\n      <td>4</td>\n      <td>0.500000</td>\n    </tr>\n    <tr>\n      <th>3382</th>\n      <td>1408810219</td>\n      <td>9</td>\n      <td>2</td>\n      <td>Brand_2</td>\n      <td>6</td>\n      <td>0.666667</td>\n    </tr>\n  </tbody>\n</table>\n<p>3383 rows × 6 columns</p>\n</div>"
     },
     "execution_count": 28,
     "metadata": {},
     "output_type": "execute_result"
    }
   ],
   "execution_count": 28
  },
  {
   "cell_type": "code",
   "execution_count": 29,
   "outputs": [
    {
     "data": {
      "text/plain": "<Figure size 500x500 with 1 Axes>",
      "image/png": "[encoded data removed]"
     },
     "metadata": {},
     "output_type": "display_data"
    }
   ],
   "source": [
    "ax = sns.displot(loyal_df.loyal_score)"
   ],
   "metadata": {
    "collapsed": false,
    "ExecuteTime": {
     "end_time": "2025-01-08T15:07:40.866479700Z",
     "start_time": "2025-01-08T15:07:40.737862Z"
    }
   }
  },
  {
   "cell_type": "code",
   "execution_count": 43,
   "outputs": [],
   "source": [
    "brd = loyal_df.groupby('lovely_brand', as_index=False) \\\n",
    "    .agg({'loyal_score': 'median', 'user_id': 'count', 'lovely_brand_purchase': 'median'}) \\\n",
    "    .sort_values('loyal_score', ascending=False)"
   ],
   "metadata": {
    "collapsed": false,
    "ExecuteTime": {
     "end_time": "2025-01-08T15:12:15.413800400Z",
     "start_time": "2025-01-08T15:12:15.385092500Z"
    }
   }
  },
  {
   "cell_type": "code",
   "execution_count": 44,
   "outputs": [
    {
     "data": {
      "text/plain": "<Figure size 640x480 with 1 Axes>",
      "image/png": "[encoded data removed]"
     },
     "metadata": {},
     "output_type": "display_data"
    }
   ],
   "source": [
    "ax =sns.barplot(x='lovely_brand',y='loyal_score',data=brd)"
   ],
   "metadata": {
    "collapsed": false,
    "ExecuteTime": {
     "end_time": "2025-01-08T15:12:16.132935700Z",
     "start_time": "2025-01-08T15:12:16.040872100Z"
    }
   }
  },
  {
   "cell_type": "code",
   "execution_count": 30,
   "outputs": [],
   "source": [],
   "metadata": {
    "collapsed": false,
    "ExecuteTime": {
     "end_time": "2025-01-08T15:07:46.859947Z",
     "start_time": "2025-01-08T15:07:46.845847500Z"
    }
   }
  },
  {
   "cell_type": "code",
   "execution_count": null,
   "outputs": [],
   "source": [],
   "metadata": {
    "collapsed": false
   }
  }
 ]
}
